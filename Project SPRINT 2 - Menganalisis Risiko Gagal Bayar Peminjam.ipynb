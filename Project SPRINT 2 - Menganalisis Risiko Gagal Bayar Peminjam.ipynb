{
 "cells": [
  {
   "cell_type": "markdown",
   "metadata": {},
   "source": [
    "# Menganalisis Risiko Gagal Bayar Peminjam"
   ]
  },
  {
   "cell_type": "markdown",
   "metadata": {},
   "source": [
    "\n",
    "\n",
    "# Konten <a id='back_to_content'></a>\n",
    "\n",
    "* [Pendahuluan](#intro)\n",
    "* [Tahap 1. Ikhtisar Data](#data_review)\n",
    "    * [Tahap 1.1 Memahami Data]\n",
    "    * [Tahap 1.2 Eksplorasi Data Awal]\n",
    "    * [Tahap 1.3 Kesimpulan](#data_review_conclusion)\n",
    "* [Tahap 2. Pra-Pemrosesan Data](#data_preprocessing)\n",
    "    * [Tahap 2.1 Gaya Penulisan Judul](#header_style)\n",
    "    * [Tahap 2.2 Penanganan Duplikasi](#duplicates)\n",
    "    * [Tahap 2.3 Penanganan Nilai Yang Hilang](#missing_values)\n",
    "    * [Tahap 2.4 Kesimpulan](#data_preprocessing_conclusion)\n",
    "* [Tahap 3. Analisis Data dan Temuan Serta Hipotesis](#hypotheses)\n",
    "    * [Tahap 3.1 Pengkategorian Data](#income)\n",
    "    * [Tahap 3.2 Faktor-faktor Yang Berpengaruh Pada Gagal Bayar Pinjaman](#failed_loans)\n",
    "    * [Tahap 3.3 Analisis Berdasarkan Tujuan Kredit](#purpose)\n",
    "    * [Tahap 3.4 Kesimpulan Analisis Data]\n",
    "* [Tahap 4. Kesimpulan](#end)"
   ]
  },
  {
   "cell_type": "markdown",
   "metadata": {},
   "source": [
    "# Pendahuluan <a id='intro'></a>\n",
    "\n",
    "Dalam dunia keuangan dan analisis data, pemahaman mendalam tentang profil nasabah menjadi hal yang sangat penting untuk mengambil keputusan yang tepat. Data nasabah yang terstruktur dan terorganisasi dengan baik dapat memberikan wawasan yang berharga tentang perilaku keuangan nasabah, yang pada akhirnya dapat membantu dalam pengambilan keputusan yang lebih tepat dan strategis. Didalam proyek ini, kita akan melakukan analisis terhadap dataset yang mencakup informasi tentang nasabah, termasuk detail keuangan dan karakteristik pribadi nasabah. Tujuan akhir dari proyek ini adalah untuk mengidentifikasi pola-pola yang kemungkinan dapat mempengaruhi seorang nasabah dalam mengalami masalah pembayaran pinjaman.\n",
    "\n",
    "# Tujuan\n",
    "\n",
    "Proyek ini bertujuan untuk menganalisis data kelayakan pemberian pinjaman kepada nasabah bank. Tujuan utama dari proyek ini adalah untuk melakukan pemahaman mendalam tentang data yang diberikan, mengeksplorasi potensi masalah seperti nilai-nilai yang hilang, duplikasi, dan kesalahan lainnya, serta melakukan analisis terhadap faktor-faktor yang berpotensi mempengaruhi kelayakan pemberian pinjaman. Beberapa tujuan khusus dari proyek ini antara lain:\n",
    "1. Pemahaman Data: Melakukan eksplorasi awal terhadap dataset untuk memahami karakteristik, variabel-variabel, serta hubungan antar variabel.\n",
    "2. Pemrosesan Data: Menangani nilai-nilai yang hilang, duplikasi, dan masalah pemformatan data lainnya agar data siap untuk analisis lebih lanjut.\n",
    "3. Analisis Faktor-Faktor: Menganalisis faktor-faktor seperti tingkat pendapatan, status keluarga, tujuan pinjaman, dan lainnya untuk mengidentifikasi pola dan hubungan yang berkaitan dengan kelayakan pemberian pinjaman.\n",
    "4. Pengambilan Keputusan: Berdasarkan analisis, mengambil keputusan strategis terkait kebijakan pemberian pinjaman, termasuk pemahaman tentang risiko-risiko yang mungkin muncul.\n",
    "5. Kesimpulan dan Rekomendasi: Merangkum hasil analisis dan memberikan rekomendasi berdasarkan temuan yang ditemukan.\n",
    "\n",
    "# Tahapan\n",
    "\n",
    "Di sini kita akan melakukan analisa dataset pada `/datasets/credit_scoring_eng.csv`.  \n",
    "Proyek ini terdiri dari tiga tahap:\n",
    " 1. Ikhtisar Data\n",
    " 2. Pra-pemrosesan data\n",
    " 3. Pengujian hipotesis\n",
    "\n",
    "[Kembali ke Konten](#back_to_content)"
   ]
  },
  {
   "cell_type": "markdown",
   "metadata": {},
   "source": [
    "# 1. Ikhtisar Data <a id='data review'></a>\n"
   ]
  },
  {
   "cell_type": "code",
   "execution_count": 1,
   "metadata": {},
   "outputs": [],
   "source": [
    "# Muat semua library\n",
    "import pandas as pd"
   ]
  },
  {
   "cell_type": "code",
   "execution_count": 2,
   "metadata": {},
   "outputs": [],
   "source": [
    "# Muat datanya\n",
    "path = '/datasets/credit_scoring_eng.csv'\n",
    "df = pd.read_csv(path) "
   ]
  },
  {
   "cell_type": "markdown",
   "metadata": {},
   "source": [
    "# 1.1 Memahami Data\n",
    "\n",
    "**Deskripsi data**\n",
    "- `children` - jumlah anak dalam keluarga\n",
    "- `days_employed` - pengalaman kerja nasabah dalam hari\n",
    "- `dob_years` - usia nasabah dalam tahun\n",
    "- `education` - tingkat pendidikan nasabah\n",
    "- `education_id` - pengidentifikasi untuk tingkat pendidikan nasabah\n",
    "- `family_status` - status perkawinan\n",
    "- `family_status_id` - pengidentifikasi untuk status perkawinan nasabah\n",
    "- `gender` - jenis kelamin nasabah\n",
    "- `income_type` - jenis pekerjaan\n",
    "- `debt` - apakah nasabah pernah melakukan gagal bayar pinjaman\n",
    "- `total_income` - pendapatan bulanan\n",
    "- `purpose` - tujuan mendapatkan pinjaman\n"
   ]
  },
  {
   "cell_type": "code",
   "execution_count": 3,
   "metadata": {},
   "outputs": [
    {
     "data": {
      "text/plain": [
       "(21525, 12)"
      ]
     },
     "execution_count": 3,
     "metadata": {},
     "output_type": "execute_result"
    }
   ],
   "source": [
    "# Mari kita lihat berapa banyak baris dan kolom yang dimiliki oleh dataset kita\n",
    "df.shape"
   ]
  },
  {
   "cell_type": "code",
   "execution_count": 4,
   "metadata": {
    "scrolled": true
   },
   "outputs": [
    {
     "data": {
      "text/html": [
       "<div>\n",
       "<style scoped>\n",
       "    .dataframe tbody tr th:only-of-type {\n",
       "        vertical-align: middle;\n",
       "    }\n",
       "\n",
       "    .dataframe tbody tr th {\n",
       "        vertical-align: top;\n",
       "    }\n",
       "\n",
       "    .dataframe thead th {\n",
       "        text-align: right;\n",
       "    }\n",
       "</style>\n",
       "<table border=\"1\" class=\"dataframe\">\n",
       "  <thead>\n",
       "    <tr style=\"text-align: right;\">\n",
       "      <th></th>\n",
       "      <th>children</th>\n",
       "      <th>days_employed</th>\n",
       "      <th>dob_years</th>\n",
       "      <th>education</th>\n",
       "      <th>education_id</th>\n",
       "      <th>family_status</th>\n",
       "      <th>family_status_id</th>\n",
       "      <th>gender</th>\n",
       "      <th>income_type</th>\n",
       "      <th>debt</th>\n",
       "      <th>total_income</th>\n",
       "      <th>purpose</th>\n",
       "    </tr>\n",
       "  </thead>\n",
       "  <tbody>\n",
       "    <tr>\n",
       "      <th>0</th>\n",
       "      <td>1</td>\n",
       "      <td>-8437.673028</td>\n",
       "      <td>42</td>\n",
       "      <td>bachelor's degree</td>\n",
       "      <td>0</td>\n",
       "      <td>married</td>\n",
       "      <td>0</td>\n",
       "      <td>F</td>\n",
       "      <td>employee</td>\n",
       "      <td>0</td>\n",
       "      <td>40620.102</td>\n",
       "      <td>purchase of the house</td>\n",
       "    </tr>\n",
       "    <tr>\n",
       "      <th>1</th>\n",
       "      <td>1</td>\n",
       "      <td>-4024.803754</td>\n",
       "      <td>36</td>\n",
       "      <td>secondary education</td>\n",
       "      <td>1</td>\n",
       "      <td>married</td>\n",
       "      <td>0</td>\n",
       "      <td>F</td>\n",
       "      <td>employee</td>\n",
       "      <td>0</td>\n",
       "      <td>17932.802</td>\n",
       "      <td>car purchase</td>\n",
       "    </tr>\n",
       "    <tr>\n",
       "      <th>2</th>\n",
       "      <td>0</td>\n",
       "      <td>-5623.422610</td>\n",
       "      <td>33</td>\n",
       "      <td>Secondary Education</td>\n",
       "      <td>1</td>\n",
       "      <td>married</td>\n",
       "      <td>0</td>\n",
       "      <td>M</td>\n",
       "      <td>employee</td>\n",
       "      <td>0</td>\n",
       "      <td>23341.752</td>\n",
       "      <td>purchase of the house</td>\n",
       "    </tr>\n",
       "    <tr>\n",
       "      <th>3</th>\n",
       "      <td>3</td>\n",
       "      <td>-4124.747207</td>\n",
       "      <td>32</td>\n",
       "      <td>secondary education</td>\n",
       "      <td>1</td>\n",
       "      <td>married</td>\n",
       "      <td>0</td>\n",
       "      <td>M</td>\n",
       "      <td>employee</td>\n",
       "      <td>0</td>\n",
       "      <td>42820.568</td>\n",
       "      <td>supplementary education</td>\n",
       "    </tr>\n",
       "    <tr>\n",
       "      <th>4</th>\n",
       "      <td>0</td>\n",
       "      <td>340266.072047</td>\n",
       "      <td>53</td>\n",
       "      <td>secondary education</td>\n",
       "      <td>1</td>\n",
       "      <td>civil partnership</td>\n",
       "      <td>1</td>\n",
       "      <td>F</td>\n",
       "      <td>retiree</td>\n",
       "      <td>0</td>\n",
       "      <td>25378.572</td>\n",
       "      <td>to have a wedding</td>\n",
       "    </tr>\n",
       "  </tbody>\n",
       "</table>\n",
       "</div>"
      ],
      "text/plain": [
       "   children  days_employed  dob_years            education  education_id  \\\n",
       "0         1   -8437.673028         42    bachelor's degree             0   \n",
       "1         1   -4024.803754         36  secondary education             1   \n",
       "2         0   -5623.422610         33  Secondary Education             1   \n",
       "3         3   -4124.747207         32  secondary education             1   \n",
       "4         0  340266.072047         53  secondary education             1   \n",
       "\n",
       "       family_status  family_status_id gender income_type  debt  total_income  \\\n",
       "0            married                 0      F    employee     0     40620.102   \n",
       "1            married                 0      F    employee     0     17932.802   \n",
       "2            married                 0      M    employee     0     23341.752   \n",
       "3            married                 0      M    employee     0     42820.568   \n",
       "4  civil partnership                 1      F     retiree     0     25378.572   \n",
       "\n",
       "                   purpose  \n",
       "0    purchase of the house  \n",
       "1             car purchase  \n",
       "2    purchase of the house  \n",
       "3  supplementary education  \n",
       "4        to have a wedding  "
      ]
     },
     "execution_count": 4,
     "metadata": {},
     "output_type": "execute_result"
    }
   ],
   "source": [
    "# Mari tampilkan N baris pertama\n",
    "df.head()"
   ]
  },
  {
   "cell_type": "markdown",
   "metadata": {},
   "source": [
    "# * Temuan dari DataFrame\n",
    "1. Untuk column days_employed ada data yang nilainya negatif dan data nilai yang sangat tinggi sekali, ini sangat mencurigakan dan tampak tidak wajar. Harus diperiksa apakah ada kesalahan dalam pengumpulan data atau ada masalah dengan cara menghitung lama bekerja.\n",
    "2. Untuk coulumn education penulisan gelar tidak konsisten seharusnya menggunakan huruf kecil semua, jadi ada yang dikonversi menjadi huruf kecil.\n",
    "3. Untuk coulumn total_income perlu dicheck apakah ada nilai yang hilang atau tidak valid.\n"
   ]
  },
  {
   "cell_type": "code",
   "execution_count": 5,
   "metadata": {
    "scrolled": false
   },
   "outputs": [
    {
     "name": "stdout",
     "output_type": "stream",
     "text": [
      "<class 'pandas.core.frame.DataFrame'>\n",
      "RangeIndex: 21525 entries, 0 to 21524\n",
      "Data columns (total 12 columns):\n",
      " #   Column            Non-Null Count  Dtype  \n",
      "---  ------            --------------  -----  \n",
      " 0   children          21525 non-null  int64  \n",
      " 1   days_employed     19351 non-null  float64\n",
      " 2   dob_years         21525 non-null  int64  \n",
      " 3   education         21525 non-null  object \n",
      " 4   education_id      21525 non-null  int64  \n",
      " 5   family_status     21525 non-null  object \n",
      " 6   family_status_id  21525 non-null  int64  \n",
      " 7   gender            21525 non-null  object \n",
      " 8   income_type       21525 non-null  object \n",
      " 9   debt              21525 non-null  int64  \n",
      " 10  total_income      19351 non-null  float64\n",
      " 11  purpose           21525 non-null  object \n",
      "dtypes: float64(2), int64(5), object(5)\n",
      "memory usage: 2.0+ MB\n"
     ]
    }
   ],
   "source": [
    "# Dapatkan informasi data\n",
    "df.info()"
   ]
  },
  {
   "cell_type": "markdown",
   "metadata": {},
   "source": [
    "# * Temuan\n",
    "1. Terdapat nilai yang hilang (missing values) di beberapa kolom. Kolom yang memiliki nilai yang hilang adalah 'days_employed' dan 'total_income'. \n",
    "2. Jumlah total data pada kolom 'days_employed' adalah 19,351 , sementara pada kolom 'total_income' juga memiliki 19,351 data. \n",
    "3. Dimana seharusnya kedua kolom tersebut seharusnya memiliki nilai 21525. Jadi ada sebanyak 2174 yang hilang.\n"
   ]
  },
  {
   "cell_type": "markdown",
   "metadata": {},
   "source": [
    "# 1.2 Eksplorasi Data Awal"
   ]
  },
  {
   "cell_type": "code",
   "execution_count": 6,
   "metadata": {
    "scrolled": true
   },
   "outputs": [
    {
     "data": {
      "text/html": [
       "<div>\n",
       "<style scoped>\n",
       "    .dataframe tbody tr th:only-of-type {\n",
       "        vertical-align: middle;\n",
       "    }\n",
       "\n",
       "    .dataframe tbody tr th {\n",
       "        vertical-align: top;\n",
       "    }\n",
       "\n",
       "    .dataframe thead th {\n",
       "        text-align: right;\n",
       "    }\n",
       "</style>\n",
       "<table border=\"1\" class=\"dataframe\">\n",
       "  <thead>\n",
       "    <tr style=\"text-align: right;\">\n",
       "      <th></th>\n",
       "      <th>children</th>\n",
       "      <th>days_employed</th>\n",
       "      <th>dob_years</th>\n",
       "      <th>education</th>\n",
       "      <th>education_id</th>\n",
       "      <th>family_status</th>\n",
       "      <th>family_status_id</th>\n",
       "      <th>gender</th>\n",
       "      <th>income_type</th>\n",
       "      <th>debt</th>\n",
       "      <th>total_income</th>\n",
       "      <th>purpose</th>\n",
       "    </tr>\n",
       "  </thead>\n",
       "  <tbody>\n",
       "    <tr>\n",
       "      <th>12</th>\n",
       "      <td>0</td>\n",
       "      <td>NaN</td>\n",
       "      <td>65</td>\n",
       "      <td>secondary education</td>\n",
       "      <td>1</td>\n",
       "      <td>civil partnership</td>\n",
       "      <td>1</td>\n",
       "      <td>M</td>\n",
       "      <td>retiree</td>\n",
       "      <td>0</td>\n",
       "      <td>NaN</td>\n",
       "      <td>to have a wedding</td>\n",
       "    </tr>\n",
       "    <tr>\n",
       "      <th>26</th>\n",
       "      <td>0</td>\n",
       "      <td>NaN</td>\n",
       "      <td>41</td>\n",
       "      <td>secondary education</td>\n",
       "      <td>1</td>\n",
       "      <td>married</td>\n",
       "      <td>0</td>\n",
       "      <td>M</td>\n",
       "      <td>civil servant</td>\n",
       "      <td>0</td>\n",
       "      <td>NaN</td>\n",
       "      <td>education</td>\n",
       "    </tr>\n",
       "    <tr>\n",
       "      <th>29</th>\n",
       "      <td>0</td>\n",
       "      <td>NaN</td>\n",
       "      <td>63</td>\n",
       "      <td>secondary education</td>\n",
       "      <td>1</td>\n",
       "      <td>unmarried</td>\n",
       "      <td>4</td>\n",
       "      <td>F</td>\n",
       "      <td>retiree</td>\n",
       "      <td>0</td>\n",
       "      <td>NaN</td>\n",
       "      <td>building a real estate</td>\n",
       "    </tr>\n",
       "    <tr>\n",
       "      <th>41</th>\n",
       "      <td>0</td>\n",
       "      <td>NaN</td>\n",
       "      <td>50</td>\n",
       "      <td>secondary education</td>\n",
       "      <td>1</td>\n",
       "      <td>married</td>\n",
       "      <td>0</td>\n",
       "      <td>F</td>\n",
       "      <td>civil servant</td>\n",
       "      <td>0</td>\n",
       "      <td>NaN</td>\n",
       "      <td>second-hand car purchase</td>\n",
       "    </tr>\n",
       "    <tr>\n",
       "      <th>55</th>\n",
       "      <td>0</td>\n",
       "      <td>NaN</td>\n",
       "      <td>54</td>\n",
       "      <td>secondary education</td>\n",
       "      <td>1</td>\n",
       "      <td>civil partnership</td>\n",
       "      <td>1</td>\n",
       "      <td>F</td>\n",
       "      <td>retiree</td>\n",
       "      <td>1</td>\n",
       "      <td>NaN</td>\n",
       "      <td>to have a wedding</td>\n",
       "    </tr>\n",
       "  </tbody>\n",
       "</table>\n",
       "</div>"
      ],
      "text/plain": [
       "    children  days_employed  dob_years            education  education_id  \\\n",
       "12         0            NaN         65  secondary education             1   \n",
       "26         0            NaN         41  secondary education             1   \n",
       "29         0            NaN         63  secondary education             1   \n",
       "41         0            NaN         50  secondary education             1   \n",
       "55         0            NaN         54  secondary education             1   \n",
       "\n",
       "        family_status  family_status_id gender    income_type  debt  \\\n",
       "12  civil partnership                 1      M        retiree     0   \n",
       "26            married                 0      M  civil servant     0   \n",
       "29          unmarried                 4      F        retiree     0   \n",
       "41            married                 0      F  civil servant     0   \n",
       "55  civil partnership                 1      F        retiree     1   \n",
       "\n",
       "    total_income                   purpose  \n",
       "12           NaN         to have a wedding  \n",
       "26           NaN                 education  \n",
       "29           NaN    building a real estate  \n",
       "41           NaN  second-hand car purchase  \n",
       "55           NaN         to have a wedding  "
      ]
     },
     "execution_count": 6,
     "metadata": {},
     "output_type": "execute_result"
    }
   ],
   "source": [
    "# Mari kita lihat tabel yang telah difilter dengan nilai yang hilang di kolom pertama yang mengandung data yang hilang\n",
    "df_with_missing_values = df.loc[df['days_employed'].isnull(), :]\n",
    "# Menampilkan tabel hasil filter\n",
    "df_with_missing_values.head()"
   ]
  },
  {
   "cell_type": "code",
   "execution_count": 7,
   "metadata": {},
   "outputs": [
    {
     "data": {
      "text/plain": [
       "children               0\n",
       "days_employed       2174\n",
       "dob_years              0\n",
       "education              0\n",
       "education_id           0\n",
       "family_status          0\n",
       "family_status_id       0\n",
       "gender                 0\n",
       "income_type            0\n",
       "debt                   0\n",
       "total_income        2174\n",
       "purpose                0\n",
       "dtype: int64"
      ]
     },
     "execution_count": 7,
     "metadata": {},
     "output_type": "execute_result"
    }
   ],
   "source": [
    "df.isnull().sum()"
   ]
  },
  {
   "cell_type": "code",
   "execution_count": 8,
   "metadata": {},
   "outputs": [
    {
     "data": {
      "text/plain": [
       "children               0\n",
       "days_employed       2174\n",
       "dob_years              0\n",
       "education              0\n",
       "education_id           0\n",
       "family_status          0\n",
       "family_status_id       0\n",
       "gender                 0\n",
       "income_type            0\n",
       "debt                   0\n",
       "total_income        2174\n",
       "purpose                0\n",
       "dtype: int64"
      ]
     },
     "execution_count": 8,
     "metadata": {},
     "output_type": "execute_result"
    }
   ],
   "source": [
    "df_with_missing_values.isnull().sum()"
   ]
  },
  {
   "cell_type": "code",
   "execution_count": 9,
   "metadata": {},
   "outputs": [
    {
     "data": {
      "text/plain": [
       "(2174, 12)"
      ]
     },
     "execution_count": 9,
     "metadata": {},
     "output_type": "execute_result"
    }
   ],
   "source": [
    "# Mari kita terapkan beberapa kondisi untuk memfilter data dan melihat jumlah baris dalam tabel yang telah difilter.\n",
    "df_with_missing_values = df.loc[(df['days_employed'].isnull()) & (df['total_income'].isnull()), :]\n",
    "df_with_missing_values.shape"
   ]
  },
  {
   "cell_type": "markdown",
   "metadata": {},
   "source": [
    "# * Temuan\n",
    "1. Dari ke dua tabel yang kita tampilkan, terdapat sebanyak 2174 nilai yang hilang.\n",
    "2. Missing valuenya tampaknya simetris karena setelah difilter dikolom days_employed, jumlah missing values di kolom total_income juga sama."
   ]
  },
  {
   "cell_type": "code",
   "execution_count": 10,
   "metadata": {
    "scrolled": true
   },
   "outputs": [
    {
     "data": {
      "text/plain": [
       "children             0.000000\n",
       "days_employed       10.099884\n",
       "dob_years            0.000000\n",
       "education            0.000000\n",
       "education_id         0.000000\n",
       "family_status        0.000000\n",
       "family_status_id     0.000000\n",
       "gender               0.000000\n",
       "income_type          0.000000\n",
       "debt                 0.000000\n",
       "total_income        10.099884\n",
       "purpose              0.000000\n",
       "dtype: float64"
      ]
     },
     "execution_count": 10,
     "metadata": {},
     "output_type": "execute_result"
    }
   ],
   "source": [
    "# Menghitung persentase nilai yang hilang dalam keseluruhan dataset:\n",
    "df_with_missing_values.isnull().sum() / df.shape[0] * 100"
   ]
  },
  {
   "cell_type": "markdown",
   "metadata": {},
   "source": [
    "# * Asumsi \n",
    "\n",
    " 1. Sebelum mengisi nilai yang hilang, kita harus mempertimbangkan apakah data yang hilang bisa jadi disebabkan oleh karakteristik nasabah tertentu, seperti jenis pekerjaan atau yang lainnya. Hal ini dapat membantu kita mengidentifikasi kemungkinan sumber atau pola yang menyebabkan nilai hilang pada kolom tertentu.\n",
    " 2. Kita juga perlu memeriksa apakah ada ketergantungan nilai yang hilang pada nilai indikator lain dengan kolom-kolom yang mengidentifikasikan karakteristik tertentu nasabah. Misalnya, apakah ada keterkaitan antara nilai hilang pada kolom 'total_income' dengan jenis pekerjaan atau tujuan pinjaman peminjam."
   ]
  },
  {
   "cell_type": "markdown",
   "metadata": {},
   "source": [
    "# 1.3 Kesimpulan sementara\n",
    "\n",
    "Jumlah baris dalam tabel yang telah difilter sesuai dengan jumlah nilai yang hilang di kolom 'days_employed' dan 'total_income'. Terdapat 2174 baris data yang memiliki nilai yang hilang di kedua kolom tersebut.\n"
   ]
  },
  {
   "cell_type": "markdown",
   "metadata": {},
   "source": [
    "Kesimpulannya sebagai berikut:\n",
    "\n",
    "1. Jumlah baris dalam tabel yang telah difilter sesuai dengan jumlah nilai yang hilang di kolom 'days_employed' dan   'total_income'. Jadi, data telah berhasil difilter dengan benar.\n",
    "\n",
    "2. Persentase nilai yang hilang cukup besar karena kita memiliki nilai yang hilang di seluruh data yang diberikan.\n",
    "\n",
    "Mempertimbangkan karakteristik tertentu nasabah yang mungkin menyebabkan data yang hilang. Misalnya, kita dapat mencari apakah jenis pekerjaan tertentu cenderung memiliki nilai yang hilang lebih banyak.\n",
    "\n",
    "Memeriksa apakah ada ketergantungan nilai yang hilang pada indikator lain, seperti jenis pekerjaan atau status keluarga, yang dapat membantu mengidentifikasi pola atau hubungan terkait nilai yang hilang.\n"
   ]
  },
  {
   "cell_type": "markdown",
   "metadata": {},
   "source": [
    "# * Langkah Selanjutnya:\n",
    "\n",
    "* Melakukan Analisis Lebih Mendalam:\n",
    "Langkah selanjutnya adalah melakukan analisis yang lebih mendalam pada data yang memiliki nilai hilang, terutama pada kolom days_employed' dan 'total_income' serta melakukan pra-pemrosesan data.\n"
   ]
  },
  {
   "cell_type": "markdown",
   "metadata": {},
   "source": [
    "# Tahap 2 Pra-pemrosesan Data\n",
    "* Di tahap ini kita akan coba menggunakan asumsi DataFrame yang akan kita buat, yaitu df_with_missing dan df. Masing-masing akan diuji untuk pra-pemrosesan data."
   ]
  },
  {
   "cell_type": "code",
   "execution_count": 11,
   "metadata": {},
   "outputs": [],
   "source": [
    "# Mari kita periksa nasabah yang tidak memiliki data tentang karakteristik yang teridentifikasi dan kolom dengan nilai yang hilang\n",
    "\n",
    "# Memeriksa nasabah tanpa data karakteristik teridentifikasi (misalnya, jenis pekerjaan)\n",
    "\n",
    "df_with_missing_values = df[df.isnull().any(axis=1)]\n",
    "df_with_missing_values\n",
    "# deklarasi data tanpa nilai hilang\n",
    "df_not_null = df.dropna()"
   ]
  },
  {
   "cell_type": "code",
   "execution_count": 12,
   "metadata": {},
   "outputs": [
    {
     "data": {
      "text/plain": [
       "children               0\n",
       "days_employed       2174\n",
       "dob_years              0\n",
       "education              0\n",
       "education_id           0\n",
       "family_status          0\n",
       "family_status_id       0\n",
       "gender                 0\n",
       "income_type            0\n",
       "debt                   0\n",
       "total_income        2174\n",
       "purpose                0\n",
       "dtype: int64"
      ]
     },
     "execution_count": 12,
     "metadata": {},
     "output_type": "execute_result"
    }
   ],
   "source": [
    "# Memeriksa baris dengan nilai hilang pada kolom 'days_employed' dan 'total_income'\n",
    "df.isnull().sum()"
   ]
  },
  {
   "cell_type": "code",
   "execution_count": 13,
   "metadata": {},
   "outputs": [
    {
     "data": {
      "text/html": [
       "<div>\n",
       "<style scoped>\n",
       "    .dataframe tbody tr th:only-of-type {\n",
       "        vertical-align: middle;\n",
       "    }\n",
       "\n",
       "    .dataframe tbody tr th {\n",
       "        vertical-align: top;\n",
       "    }\n",
       "\n",
       "    .dataframe thead th {\n",
       "        text-align: right;\n",
       "    }\n",
       "</style>\n",
       "<table border=\"1\" class=\"dataframe\">\n",
       "  <thead>\n",
       "    <tr style=\"text-align: right;\">\n",
       "      <th></th>\n",
       "      <th>Count</th>\n",
       "      <th>Percentage</th>\n",
       "    </tr>\n",
       "  </thead>\n",
       "  <tbody>\n",
       "    <tr>\n",
       "      <th>children</th>\n",
       "      <td>2174</td>\n",
       "      <td>100.00%</td>\n",
       "    </tr>\n",
       "    <tr>\n",
       "      <th>days_employed</th>\n",
       "      <td>0</td>\n",
       "      <td>0.00%</td>\n",
       "    </tr>\n",
       "    <tr>\n",
       "      <th>dob_years</th>\n",
       "      <td>2174</td>\n",
       "      <td>100.00%</td>\n",
       "    </tr>\n",
       "    <tr>\n",
       "      <th>education</th>\n",
       "      <td>2174</td>\n",
       "      <td>100.00%</td>\n",
       "    </tr>\n",
       "    <tr>\n",
       "      <th>education_id</th>\n",
       "      <td>2174</td>\n",
       "      <td>100.00%</td>\n",
       "    </tr>\n",
       "    <tr>\n",
       "      <th>family_status</th>\n",
       "      <td>2174</td>\n",
       "      <td>100.00%</td>\n",
       "    </tr>\n",
       "    <tr>\n",
       "      <th>family_status_id</th>\n",
       "      <td>2174</td>\n",
       "      <td>100.00%</td>\n",
       "    </tr>\n",
       "    <tr>\n",
       "      <th>gender</th>\n",
       "      <td>2174</td>\n",
       "      <td>100.00%</td>\n",
       "    </tr>\n",
       "    <tr>\n",
       "      <th>income_type</th>\n",
       "      <td>2174</td>\n",
       "      <td>100.00%</td>\n",
       "    </tr>\n",
       "    <tr>\n",
       "      <th>debt</th>\n",
       "      <td>2174</td>\n",
       "      <td>100.00%</td>\n",
       "    </tr>\n",
       "    <tr>\n",
       "      <th>total_income</th>\n",
       "      <td>0</td>\n",
       "      <td>0.00%</td>\n",
       "    </tr>\n",
       "    <tr>\n",
       "      <th>purpose</th>\n",
       "      <td>2174</td>\n",
       "      <td>100.00%</td>\n",
       "    </tr>\n",
       "  </tbody>\n",
       "</table>\n",
       "</div>"
      ],
      "text/plain": [
       "                  Count Percentage\n",
       "children           2174    100.00%\n",
       "days_employed         0      0.00%\n",
       "dob_years          2174    100.00%\n",
       "education          2174    100.00%\n",
       "education_id       2174    100.00%\n",
       "family_status      2174    100.00%\n",
       "family_status_id   2174    100.00%\n",
       "gender             2174    100.00%\n",
       "income_type        2174    100.00%\n",
       "debt               2174    100.00%\n",
       "total_income          0      0.00%\n",
       "purpose            2174    100.00%"
      ]
     },
     "execution_count": 13,
     "metadata": {},
     "output_type": "execute_result"
    }
   ],
   "source": [
    "# Periksalah distribusinya\n",
    "count_non_null = df_with_missing_values.count()\n",
    "percentage_non_null = (count_non_null / len(df_with_missing_values)) * 100\n",
    "distribution_info = pd.DataFrame({\n",
    "    'Count': count_non_null,\n",
    "    'Percentage': percentage_non_null.map('{:.2f}%'.format)\n",
    "})\n",
    "distribution_info"
   ]
  },
  {
   "cell_type": "markdown",
   "metadata": {},
   "source": [
    "# * Nilai Distribusi Kolom\n",
    "* Distribusi yang kita dapatkan yaitu berupa persentase yang didapat pada masing-masing DataFrame. Hal ini bertujuan apakah setelah kita lakukan pra-pemrosesan data tetap memiliki dampak atau tidak jika kita memisahkan jenisa DataFrame yang nilainya hilang dan tanpa nilai hilang."
   ]
  },
  {
   "cell_type": "code",
   "execution_count": 14,
   "metadata": {},
   "outputs": [
    {
     "data": {
      "text/html": [
       "<div>\n",
       "<style scoped>\n",
       "    .dataframe tbody tr th:only-of-type {\n",
       "        vertical-align: middle;\n",
       "    }\n",
       "\n",
       "    .dataframe tbody tr th {\n",
       "        vertical-align: top;\n",
       "    }\n",
       "\n",
       "    .dataframe thead th {\n",
       "        text-align: right;\n",
       "    }\n",
       "</style>\n",
       "<table border=\"1\" class=\"dataframe\">\n",
       "  <thead>\n",
       "    <tr style=\"text-align: right;\">\n",
       "      <th></th>\n",
       "      <th>percent%</th>\n",
       "      <th>count</th>\n",
       "    </tr>\n",
       "    <tr>\n",
       "      <th>unique</th>\n",
       "      <th></th>\n",
       "      <th></th>\n",
       "    </tr>\n",
       "  </thead>\n",
       "  <tbody>\n",
       "    <tr>\n",
       "      <th>employee</th>\n",
       "      <td>51.66%</td>\n",
       "      <td>11119</td>\n",
       "    </tr>\n",
       "    <tr>\n",
       "      <th>business</th>\n",
       "      <td>23.62%</td>\n",
       "      <td>5085</td>\n",
       "    </tr>\n",
       "    <tr>\n",
       "      <th>retiree</th>\n",
       "      <td>17.91%</td>\n",
       "      <td>3856</td>\n",
       "    </tr>\n",
       "    <tr>\n",
       "      <th>civil servant</th>\n",
       "      <td>6.78%</td>\n",
       "      <td>1459</td>\n",
       "    </tr>\n",
       "    <tr>\n",
       "      <th>entrepreneur</th>\n",
       "      <td>0.01%</td>\n",
       "      <td>2</td>\n",
       "    </tr>\n",
       "    <tr>\n",
       "      <th>unemployed</th>\n",
       "      <td>0.01%</td>\n",
       "      <td>2</td>\n",
       "    </tr>\n",
       "    <tr>\n",
       "      <th>student</th>\n",
       "      <td>0.0%</td>\n",
       "      <td>1</td>\n",
       "    </tr>\n",
       "    <tr>\n",
       "      <th>paternity / maternity leave</th>\n",
       "      <td>0.0%</td>\n",
       "      <td>1</td>\n",
       "    </tr>\n",
       "  </tbody>\n",
       "</table>\n",
       "</div>"
      ],
      "text/plain": [
       "                            percent%  count\n",
       "unique                                     \n",
       "employee                      51.66%  11119\n",
       "business                      23.62%   5085\n",
       "retiree                       17.91%   3856\n",
       "civil servant                  6.78%   1459\n",
       "entrepreneur                   0.01%      2\n",
       "unemployed                     0.01%      2\n",
       "student                         0.0%      1\n",
       "paternity / maternity leave     0.0%      1"
      ]
     },
     "execution_count": 14,
     "metadata": {},
     "output_type": "execute_result"
    }
   ],
   "source": [
    "# distribusi df(dataset asli)\n",
    "data_count = df[\"income_type\"].value_counts()\n",
    "data_percent = df[\"income_type\"].value_counts(normalize=True).mul(100).round(2).astype(str)+\"%\"\n",
    "pd.DataFrame(data={\"percent%\" : data_percent, \"count\" : data_count}).rename_axis(\"unique\")"
   ]
  },
  {
   "cell_type": "code",
   "execution_count": 15,
   "metadata": {},
   "outputs": [
    {
     "data": {
      "text/html": [
       "<div>\n",
       "<style scoped>\n",
       "    .dataframe tbody tr th:only-of-type {\n",
       "        vertical-align: middle;\n",
       "    }\n",
       "\n",
       "    .dataframe tbody tr th {\n",
       "        vertical-align: top;\n",
       "    }\n",
       "\n",
       "    .dataframe thead th {\n",
       "        text-align: right;\n",
       "    }\n",
       "</style>\n",
       "<table border=\"1\" class=\"dataframe\">\n",
       "  <thead>\n",
       "    <tr style=\"text-align: right;\">\n",
       "      <th></th>\n",
       "      <th>percent%</th>\n",
       "      <th>count</th>\n",
       "    </tr>\n",
       "    <tr>\n",
       "      <th>unique</th>\n",
       "      <th></th>\n",
       "      <th></th>\n",
       "    </tr>\n",
       "  </thead>\n",
       "  <tbody>\n",
       "    <tr>\n",
       "      <th>employee</th>\n",
       "      <td>50.83%</td>\n",
       "      <td>1105</td>\n",
       "    </tr>\n",
       "    <tr>\n",
       "      <th>business</th>\n",
       "      <td>23.37%</td>\n",
       "      <td>508</td>\n",
       "    </tr>\n",
       "    <tr>\n",
       "      <th>retiree</th>\n",
       "      <td>19.0%</td>\n",
       "      <td>413</td>\n",
       "    </tr>\n",
       "    <tr>\n",
       "      <th>civil servant</th>\n",
       "      <td>6.76%</td>\n",
       "      <td>147</td>\n",
       "    </tr>\n",
       "    <tr>\n",
       "      <th>entrepreneur</th>\n",
       "      <td>0.05%</td>\n",
       "      <td>1</td>\n",
       "    </tr>\n",
       "  </tbody>\n",
       "</table>\n",
       "</div>"
      ],
      "text/plain": [
       "              percent%  count\n",
       "unique                       \n",
       "employee        50.83%   1105\n",
       "business        23.37%    508\n",
       "retiree          19.0%    413\n",
       "civil servant    6.76%    147\n",
       "entrepreneur     0.05%      1"
      ]
     },
     "execution_count": 15,
     "metadata": {},
     "output_type": "execute_result"
    }
   ],
   "source": [
    "# distribusi dataset yang ada nilai null \n",
    "data_count = df_with_missing_values[\"income_type\"].value_counts()\n",
    "data_percent = df_with_missing_values[\"income_type\"].value_counts(normalize=True).mul(100).round(2).astype(str)+\"%\"\n",
    "pd.DataFrame(data={\"percent%\" : data_percent, \"count\" : data_count}).rename_axis(\"unique\")"
   ]
  },
  {
   "cell_type": "code",
   "execution_count": 16,
   "metadata": {},
   "outputs": [
    {
     "data": {
      "text/html": [
       "<div>\n",
       "<style scoped>\n",
       "    .dataframe tbody tr th:only-of-type {\n",
       "        vertical-align: middle;\n",
       "    }\n",
       "\n",
       "    .dataframe tbody tr th {\n",
       "        vertical-align: top;\n",
       "    }\n",
       "\n",
       "    .dataframe thead th {\n",
       "        text-align: right;\n",
       "    }\n",
       "</style>\n",
       "<table border=\"1\" class=\"dataframe\">\n",
       "  <thead>\n",
       "    <tr style=\"text-align: right;\">\n",
       "      <th></th>\n",
       "      <th>percent%</th>\n",
       "      <th>count</th>\n",
       "    </tr>\n",
       "    <tr>\n",
       "      <th>unique</th>\n",
       "      <th></th>\n",
       "      <th></th>\n",
       "    </tr>\n",
       "  </thead>\n",
       "  <tbody>\n",
       "    <tr>\n",
       "      <th>employee</th>\n",
       "      <td>51.75%</td>\n",
       "      <td>10014</td>\n",
       "    </tr>\n",
       "    <tr>\n",
       "      <th>business</th>\n",
       "      <td>23.65%</td>\n",
       "      <td>4577</td>\n",
       "    </tr>\n",
       "    <tr>\n",
       "      <th>retiree</th>\n",
       "      <td>17.79%</td>\n",
       "      <td>3443</td>\n",
       "    </tr>\n",
       "    <tr>\n",
       "      <th>civil servant</th>\n",
       "      <td>6.78%</td>\n",
       "      <td>1312</td>\n",
       "    </tr>\n",
       "    <tr>\n",
       "      <th>unemployed</th>\n",
       "      <td>0.01%</td>\n",
       "      <td>2</td>\n",
       "    </tr>\n",
       "    <tr>\n",
       "      <th>paternity / maternity leave</th>\n",
       "      <td>0.01%</td>\n",
       "      <td>1</td>\n",
       "    </tr>\n",
       "    <tr>\n",
       "      <th>entrepreneur</th>\n",
       "      <td>0.01%</td>\n",
       "      <td>1</td>\n",
       "    </tr>\n",
       "    <tr>\n",
       "      <th>student</th>\n",
       "      <td>0.01%</td>\n",
       "      <td>1</td>\n",
       "    </tr>\n",
       "  </tbody>\n",
       "</table>\n",
       "</div>"
      ],
      "text/plain": [
       "                            percent%  count\n",
       "unique                                     \n",
       "employee                      51.75%  10014\n",
       "business                      23.65%   4577\n",
       "retiree                       17.79%   3443\n",
       "civil servant                  6.78%   1312\n",
       "unemployed                     0.01%      2\n",
       "paternity / maternity leave    0.01%      1\n",
       "entrepreneur                   0.01%      1\n",
       "student                        0.01%      1"
      ]
     },
     "execution_count": 16,
     "metadata": {},
     "output_type": "execute_result"
    }
   ],
   "source": [
    "# distribusi dataset tanpa nilai null\n",
    "data_count = df_not_null[\"income_type\"].value_counts()\n",
    "data_percent = df_not_null[\"income_type\"].value_counts(normalize=True).mul(100).round(2).astype(str)+\"%\"\n",
    "pd.DataFrame(data={\"percent%\" : data_percent, \"count\" : data_count}).rename_axis(\"unique\")"
   ]
  },
  {
   "cell_type": "markdown",
   "metadata": {},
   "source": [
    "# * Temuan\n",
    "* Kita bisa lihat ternyata memang tepat, DataFrame memiliki ketergantungan jika kita manipulasi kondisi di dalam DataFrame tersebut."
   ]
  },
  {
   "cell_type": "code",
   "execution_count": 17,
   "metadata": {},
   "outputs": [
    {
     "data": {
      "text/plain": [
       "1    0.708372\n",
       "0    0.250230\n",
       "2    0.031739\n",
       "3    0.009660\n",
       "Name: education_id, dtype: float64"
      ]
     },
     "execution_count": 17,
     "metadata": {},
     "output_type": "execute_result"
    }
   ],
   "source": [
    "# Periksalah distribusinya\n",
    "# Cek distribusi di kolom education_id missing\n",
    "df_with_missing_values['education_id'].value_counts(normalize=True)\n"
   ]
  },
  {
   "cell_type": "code",
   "execution_count": 18,
   "metadata": {},
   "outputs": [
    {
     "data": {
      "text/plain": [
       "1    0.707689\n",
       "0    0.244367\n",
       "2    0.034564\n",
       "3    0.013101\n",
       "4    0.000279\n",
       "Name: education_id, dtype: float64"
      ]
     },
     "execution_count": 18,
     "metadata": {},
     "output_type": "execute_result"
    }
   ],
   "source": [
    "df['education_id'].value_counts(normalize=True)"
   ]
  },
  {
   "cell_type": "markdown",
   "metadata": {},
   "source": [
    "# Beberapa hal yang perlu diperhatikan:\n",
    "\n",
    "1. Standarisasi penggunaan huruf kecil untuk kolom education\n",
    "    \n",
    "2. Terdapat nilai negatif pada kolom 'days_employed', yang tidak masuk akal karena hari bekerja tidak bisa negatif. Kemungkinan terdapat kesalahan dalam pengisian atau representasi data ini.\n",
    "3. Terdapat nilai yang ekstrem (outlier) pada kedua kolom, yaitu nilai maksimum yang sangat tinggi, yang perlu diperiksa lebih lanjut apakah data tersebut valid atau ada kesalahan dalam pengisian.\n",
    "\n",
    "Penting untuk melakukan pemeriksaan lebih lanjut pada data untuk menangani nilai-nilai aneh, dan melakukan pra-pemrosesan data seperti pengisian data yang hilang, penanganan outlier, dan lain-lain.\n"
   ]
  },
  {
   "cell_type": "code",
   "execution_count": 19,
   "metadata": {},
   "outputs": [
    {
     "data": {
      "text/plain": [
       "0    0.568997\n",
       "1    0.203312\n",
       "4    0.132475\n",
       "3    0.051518\n",
       "2    0.043698\n",
       "Name: family_status_id, dtype: float64"
      ]
     },
     "execution_count": 19,
     "metadata": {},
     "output_type": "execute_result"
    }
   ],
   "source": [
    "# Memeriksa distribusi di seluruh dataset\n",
    "# Cek distribusi di kolom family_status_id missing\n",
    "df_with_missing_values['family_status_id'].value_counts(normalize=True)"
   ]
  },
  {
   "cell_type": "code",
   "execution_count": 20,
   "metadata": {},
   "outputs": [
    {
     "data": {
      "text/plain": [
       "employee         0.508280\n",
       "business         0.233671\n",
       "retiree          0.189972\n",
       "civil servant    0.067617\n",
       "entrepreneur     0.000460\n",
       "Name: income_type, dtype: float64"
      ]
     },
     "execution_count": 20,
     "metadata": {},
     "output_type": "execute_result"
    }
   ],
   "source": [
    "# Cek distribusi di kolom income_type missing\n",
    "df_with_missing_values['income_type'].value_counts(normalize=True)"
   ]
  },
  {
   "cell_type": "markdown",
   "metadata": {},
   "source": [
    "# Kesimpulan sementara\n",
    "\n",
    "1. distribusi dalam kolom education yang asli mirip dengan distribusi pada kolom education yang telah difilter, artinya kolom education bukanlah penyebab dari missing value.\n",
    "\n",
    "2. Kesamaan atau keterlihatan distribusi antara data asli dan data hasil filter menunjukkan bahwa proses filter tidak mengubah secara drastis karakteristik distribusi dari data. Ini berarti bahwa data yang difilter masih mewakili data asli secara cukup baik dan tidak mengalami pergeseran yang signifikan.\n"
   ]
  },
  {
   "cell_type": "code",
   "execution_count": 21,
   "metadata": {},
   "outputs": [
    {
     "data": {
      "text/plain": [
       "F    0.682613\n",
       "M    0.317387\n",
       "Name: gender, dtype: float64"
      ]
     },
     "execution_count": 21,
     "metadata": {},
     "output_type": "execute_result"
    }
   ],
   "source": [
    "# Periksa penyebab dan pola lain yang dapat mengakibatkan nilai yang hilang\n",
    "# Cek distribusi di kolom gender missing\n",
    "df_with_missing_values['gender'].value_counts(normalize=True)\n"
   ]
  },
  {
   "cell_type": "code",
   "execution_count": 22,
   "metadata": {},
   "outputs": [
    {
     "data": {
      "text/plain": [
       "F      0.661370\n",
       "M      0.338583\n",
       "XNA    0.000046\n",
       "Name: gender, dtype: float64"
      ]
     },
     "execution_count": 22,
     "metadata": {},
     "output_type": "execute_result"
    }
   ],
   "source": [
    "# Cek distribusi di kolom gender\n",
    "df['gender'].value_counts(normalize=True)"
   ]
  },
  {
   "cell_type": "markdown",
   "metadata": {},
   "source": [
    "# Kesimpulan sementara\n",
    "\n",
    "Banyak kemungkinan2x lainnya yang bisa menyebabkan data hilang seperti \"human error\", salah ketik, kelalain dalam mengumpulkan data, teknikal problem dan kemungkinan lainnya.\n"
   ]
  },
  {
   "cell_type": "code",
   "execution_count": 23,
   "metadata": {
    "scrolled": true
   },
   "outputs": [
    {
     "data": {
      "text/plain": [
       " 0     0.661914\n",
       " 1     0.218491\n",
       " 2     0.093836\n",
       " 3     0.016559\n",
       " 20    0.004140\n",
       " 4     0.003220\n",
       "-1     0.001380\n",
       " 5     0.000460\n",
       "Name: children, dtype: float64"
      ]
     },
     "execution_count": 23,
     "metadata": {},
     "output_type": "execute_result"
    }
   ],
   "source": [
    "# Periksa pola lainnya - jelaskan pola tersebut\n",
    "# Cek distribusi di kolom children missing\n",
    "df_with_missing_values['children'].value_counts(normalize=True)"
   ]
  },
  {
   "cell_type": "code",
   "execution_count": 24,
   "metadata": {},
   "outputs": [
    {
     "data": {
      "text/plain": [
       " 0     0.657329\n",
       " 1     0.223833\n",
       " 2     0.095470\n",
       " 3     0.015331\n",
       " 20    0.003531\n",
       "-1     0.002184\n",
       " 4     0.001905\n",
       " 5     0.000418\n",
       "Name: children, dtype: float64"
      ]
     },
     "execution_count": 24,
     "metadata": {},
     "output_type": "execute_result"
    }
   ],
   "source": [
    "# Cek distribusi di kolom children\n",
    "df['children'].value_counts(normalize=True)"
   ]
  },
  {
   "cell_type": "markdown",
   "metadata": {},
   "source": [
    "# Kesimpulan\n",
    "\n",
    "Untuk sampai pada bagian ini saya belum menemukan adanya suatu pola yang menyebabkan missing data, karena hanya dua kolom (days_emplyed dan total_income) itu saja yang ada missing datanya. \n",
    "\n",
    "Untuk mengatasi nilai yang hilang maka perlu dilakukan mengatasi masalah : duplikasi, melakukan pencatatan yang berbeda, sumber data yang salah"
   ]
  },
  {
   "cell_type": "markdown",
   "metadata": {},
   "source": [
    "# 2.1 Gaya Penulisan Judul\n",
    "\n",
    "* Mari kita perhatikan setiap kolom untuk melihat masalah apa yang mungkin dimiliki mereka.\n",
    "\n",
    "* Selain itu kita akan menghapus duplikat dan memperbaiki data tentang informasi pendidikan jika diperlukan.\n"
   ]
  },
  {
   "cell_type": "code",
   "execution_count": 25,
   "metadata": {},
   "outputs": [
    {
     "data": {
      "text/plain": [
       "secondary education    13750\n",
       "bachelor's degree       4718\n",
       "SECONDARY EDUCATION      772\n",
       "Secondary Education      711\n",
       "some college             668\n",
       "BACHELOR'S DEGREE        274\n",
       "Bachelor's Degree        268\n",
       "primary education        250\n",
       "Some College              47\n",
       "SOME COLLEGE              29\n",
       "PRIMARY EDUCATION         17\n",
       "Primary Education         15\n",
       "graduate degree            4\n",
       "GRADUATE DEGREE            1\n",
       "Graduate Degree            1\n",
       "Name: education, dtype: int64"
      ]
     },
     "execution_count": 25,
     "metadata": {},
     "output_type": "execute_result"
    }
   ],
   "source": [
    "# Mari kita lihat semua nilai di kolom pendidikan untuk memeriksa ejaan apa yang perlu diperbaiki\n",
    "df['education'].value_counts()"
   ]
  },
  {
   "cell_type": "code",
   "execution_count": 26,
   "metadata": {
    "scrolled": true
   },
   "outputs": [],
   "source": [
    "# Perbaiki pencatatan jika diperlukan / jumlah duplikasi sebelum dihapus\n",
    "df['education'] = df['education'].str.lower()\n"
   ]
  },
  {
   "cell_type": "code",
   "execution_count": 27,
   "metadata": {},
   "outputs": [
    {
     "data": {
      "text/plain": [
       "secondary education    15233\n",
       "bachelor's degree       5260\n",
       "some college             744\n",
       "primary education        282\n",
       "graduate degree            6\n",
       "Name: education, dtype: int64"
      ]
     },
     "execution_count": 27,
     "metadata": {},
     "output_type": "execute_result"
    }
   ],
   "source": [
    "# Periksa semua nilai di kolom untuk memastikan bahwa kita telah memperbaikinya dengan tepat\n",
    "df['education'].value_counts()"
   ]
  },
  {
   "cell_type": "markdown",
   "metadata": {},
   "source": [
    "# * Temuan\n",
    "* Di kolom education ditemukan penulisan gelar text yang tidak konsisten, ada yang menggunakan huruf besar semua (cth : GRADUATE DEGREE, PRIMARY EDUCATION, SOME COLLEGE, SECONDARY EDUCATION, BACHELOR'S DEGREE) dan  huruf Besar diawal kata (cth : Secondary Education, Graduate Degree, Primary Education, Some College, Bachelor's Degree,Secondary Education) dan huruf kecil.\n",
    "\n",
    "# * Tindakan\n",
    "* Melakukan konversi text menjadi huruf kecil semua yang ada di kolom education\n",
    "\n",
    "# * Hasil\n",
    "* Agar lebih mudah dibaca dan tampak adanya standarisasi penulisan dengan huruf kecil semua\n"
   ]
  },
  {
   "cell_type": "markdown",
   "metadata": {},
   "source": [
    "***Memeriksa data kolom children**"
   ]
  },
  {
   "cell_type": "code",
   "execution_count": 28,
   "metadata": {},
   "outputs": [
    {
     "data": {
      "text/plain": [
       " 0     14149\n",
       " 1      4818\n",
       " 2      2055\n",
       " 3       330\n",
       " 20       76\n",
       "-1        47\n",
       " 4        41\n",
       " 5         9\n",
       "Name: children, dtype: int64"
      ]
     },
     "execution_count": 28,
     "metadata": {},
     "output_type": "execute_result"
    }
   ],
   "source": [
    "# Mari kita lihat distribusi nilai pada kolom `children`\n",
    "df['children'].value_counts()"
   ]
  },
  {
   "cell_type": "markdown",
   "metadata": {},
   "source": [
    "# * Temuan\n",
    "Terdapat kejanggalan dari kolom tersebut ada nilai -1 dan 20. Karena ini adalah kolom children (jumlah anak) maka tidak mungkin nilai -1, bisa saja ini terjadi salah ketik dimana seharusnya nilai 1, begitu pula nilai 20 terlalu banyak bisa juga ini terjadi kelebihan input, seharusnya nilai 2 atau 0 "
   ]
  },
  {
   "cell_type": "code",
   "execution_count": 29,
   "metadata": {},
   "outputs": [],
   "source": [
    "# [perbaiki data berdasarkan keputusanmu]\n",
    "df['children'] = df['children'].replace(-1,1).replace(20,2)"
   ]
  },
  {
   "cell_type": "code",
   "execution_count": 30,
   "metadata": {},
   "outputs": [
    {
     "data": {
      "text/plain": [
       "0    14149\n",
       "1     4865\n",
       "2     2131\n",
       "3      330\n",
       "4       41\n",
       "5        9\n",
       "Name: children, dtype: int64"
      ]
     },
     "execution_count": 30,
     "metadata": {},
     "output_type": "execute_result"
    }
   ],
   "source": [
    "# Periksa kembali kolom `children` untuk memastikan bahwa semuanya telah diperbaiki\n",
    "df['children'].value_counts()\n"
   ]
  },
  {
   "cell_type": "markdown",
   "metadata": {},
   "source": [
    "* Kita akan periksa data dalam kolom `days_employed`. Pertama-tama, masalah apa yang mungkin ada pada kolom tersebut."
   ]
  },
  {
   "cell_type": "code",
   "execution_count": 31,
   "metadata": {},
   "outputs": [
    {
     "data": {
      "text/plain": [
       "count     19351.000000\n",
       "mean      63046.497661\n",
       "std      140827.311974\n",
       "min      -18388.949901\n",
       "25%       -2747.423625\n",
       "50%       -1203.369529\n",
       "75%        -291.095954\n",
       "max      401755.400475\n",
       "Name: days_employed, dtype: float64"
      ]
     },
     "execution_count": 31,
     "metadata": {},
     "output_type": "execute_result"
    }
   ],
   "source": [
    "# Temukan data yang bermasalah di kolom `days_employed` jika memang terdapat masalah dan hitung persentasenya\n",
    "df['days_employed'].describe()"
   ]
  },
  {
   "cell_type": "code",
   "execution_count": 32,
   "metadata": {},
   "outputs": [
    {
     "data": {
      "text/plain": [
       "count      3445.000000\n",
       "mean     365004.309916\n",
       "std       21075.016396\n",
       "min      328728.720605\n",
       "25%      346639.413916\n",
       "50%      365213.306266\n",
       "75%      383246.444219\n",
       "max      401755.400475\n",
       "Name: days_employed, dtype: float64"
      ]
     },
     "execution_count": 32,
     "metadata": {},
     "output_type": "execute_result"
    }
   ],
   "source": [
    "df.loc[df['days_employed'] > 0, 'days_employed'].describe()"
   ]
  },
  {
   "cell_type": "code",
   "execution_count": 33,
   "metadata": {},
   "outputs": [],
   "source": [
    "# Handle data negatif menjadi positif\n",
    "df['days_employed'] = abs(df['days_employed']) "
   ]
  },
  {
   "cell_type": "markdown",
   "metadata": {},
   "source": [
    "# * Temuan\n",
    "Tidak mungkin/mustahil jumlah hari orang bekerja sampai begitu besar, mungkin untuk mengatasinya saya bagi saja dengan 24 (1 hari = 24 Jam)  "
   ]
  },
  {
   "cell_type": "code",
   "execution_count": 34,
   "metadata": {},
   "outputs": [],
   "source": [
    "# Atasi nilai yang bermasalah, jika ada\n",
    "# Ada kemungkinan datanya ini dalam per jam sehingga perlu dibagi dengan 24\n",
    "longdays_employ = df.loc[df['days_employed'] > 0, 'days_employed'] / 24"
   ]
  },
  {
   "cell_type": "code",
   "execution_count": 35,
   "metadata": {},
   "outputs": [],
   "source": [
    "# kemudian replace kolom days employed\n",
    "df.loc[df['days_employed'] > 0, 'days_employed'] = longdays_employ"
   ]
  },
  {
   "cell_type": "code",
   "execution_count": 36,
   "metadata": {},
   "outputs": [
    {
     "data": {
      "text/plain": [
       "0          351.569709\n",
       "1          167.700156\n",
       "2          234.309275\n",
       "3          171.864467\n",
       "4        14177.753002\n",
       "             ...     \n",
       "21520      188.721528\n",
       "21521    14330.725172\n",
       "21522       88.056120\n",
       "21523      129.686738\n",
       "21524       82.687816\n",
       "Name: days_employed, Length: 19351, dtype: float64"
      ]
     },
     "execution_count": 36,
     "metadata": {},
     "output_type": "execute_result"
    }
   ],
   "source": [
    "# mencheck/lihat hasil data setelah dibagi dengan 24\n",
    "df.loc[df['days_employed'] > 0, 'days_employed']"
   ]
  },
  {
   "cell_type": "code",
   "execution_count": 37,
   "metadata": {},
   "outputs": [
    {
     "data": {
      "text/plain": [
       "count    19351.000000\n",
       "mean      2788.113704\n",
       "std       5792.953355\n",
       "min          1.005901\n",
       "25%         38.625386\n",
       "50%         91.425857\n",
       "75%        230.745102\n",
       "max      16739.808353\n",
       "Name: days_employed, dtype: float64"
      ]
     },
     "execution_count": 37,
     "metadata": {},
     "output_type": "execute_result"
    }
   ],
   "source": [
    "# Periksa hasilnya - pastikan bahwa masalahnya telah diperbaiki\n",
    "df['days_employed'].describe()"
   ]
  },
  {
   "cell_type": "code",
   "execution_count": 38,
   "metadata": {},
   "outputs": [
    {
     "data": {
      "text/plain": [
       "45.86248863835617"
      ]
     },
     "execution_count": 38,
     "metadata": {},
     "output_type": "execute_result"
    }
   ],
   "source": [
    "# untuk memastikan kemungkinan masa kerja (apakah logis ?), setelah dilakukan perbaikan distribusi terlihat nilai max 16739.808353 saya bagi dengan jumlah hari (365) dalam setahun\n",
    "16739.808353 / 365"
   ]
  },
  {
   "cell_type": "markdown",
   "metadata": {},
   "source": [
    "Memeriksa kolom `dob_years`, nilai seperti apa yang dimuat di dalam kolom ini dan masalah apa yang mungkin ada."
   ]
  },
  {
   "cell_type": "code",
   "execution_count": 39,
   "metadata": {
    "scrolled": true
   },
   "outputs": [
    {
     "data": {
      "text/plain": [
       "array([ 0, 19, 20, 21, 22, 23, 24, 25, 26, 27, 28, 29, 30, 31, 32, 33, 34,\n",
       "       35, 36, 37, 38, 39, 40, 41, 42, 43, 44, 45, 46, 47, 48, 49, 50, 51,\n",
       "       52, 53, 54, 55, 56, 57, 58, 59, 60, 61, 62, 63, 64, 65, 66, 67, 68,\n",
       "       69, 70, 71, 72, 73, 74, 75])"
      ]
     },
     "execution_count": 39,
     "metadata": {},
     "output_type": "execute_result"
    }
   ],
   "source": [
    "# Periksa `dob_years` untuk nilai yang mencurigakan dan hitung persentasenya\n",
    "df['dob_years'].sort_values().unique()\n"
   ]
  },
  {
   "cell_type": "markdown",
   "metadata": {},
   "source": [
    "# Temuan\n",
    "1. Kita akan mengambil nilai median dari kolom dob_year.\n",
    "Ada nilai 0 yang tidak masuk akal, karena ini adalah kolom usia nasabah peminjam.Jadi mana mungkin nasabah usia 0 bisa mengajukan pinjaman\n",
    "\n",
    "2. Ditemukan bahwa ada beberapa nilai yang mungkin tidak valid dalam kolom 'days_employed'. Beberapa nilai negatif sangat besar (seperti 340266.072047 dan 343937.404131) mungkin terlihat aneh dan tidak masuk akal dalam konteks pengalaman kerja dalam hitungan hari.\n",
    "\n",
    "3. Besar kemungkinan hal ini disebabkan oleh kesalahan pengisian data. Ada kemungkinan kesalahan manusia dalam menginput data atau konversi dari unit lain (seperti jam atau bulan) ke hari.\n",
    "\n",
    "4. Kemungkinan lainnya yaitu pengisian data otomatis. Jika pengisian data dilakukan secara otomatis, mungkin ada kesalahan dalam perhitungan atau pemrosesan data."
   ]
  },
  {
   "cell_type": "code",
   "execution_count": 40,
   "metadata": {},
   "outputs": [],
   "source": [
    "# Atasi masalah pada kolom `dob_years`, jika terdapat masalah\n",
    "age_median = int(df['dob_years'].median())\n",
    "df['dob_years'] = df['dob_years'].replace(0, age_median)"
   ]
  },
  {
   "cell_type": "code",
   "execution_count": 41,
   "metadata": {},
   "outputs": [
    {
     "data": {
      "text/plain": [
       "array([19, 20, 21, 22, 23, 24, 25, 26, 27, 28, 29, 30, 31, 32, 33, 34, 35,\n",
       "       36, 37, 38, 39, 40, 41, 42, 43, 44, 45, 46, 47, 48, 49, 50, 51, 52,\n",
       "       53, 54, 55, 56, 57, 58, 59, 60, 61, 62, 63, 64, 65, 66, 67, 68, 69,\n",
       "       70, 71, 72, 73, 74, 75])"
      ]
     },
     "execution_count": 41,
     "metadata": {},
     "output_type": "execute_result"
    }
   ],
   "source": [
    "# Periksa hasilnya - pastikan bahwa masalahnya telah diperbaiki\n",
    "df['dob_years'].sort_values().unique()"
   ]
  },
  {
   "cell_type": "markdown",
   "metadata": {},
   "source": [
    "Memeriksa kolom `family_status`, nilai seperti apa yang dimuat di dalam kolom ini dan masalah apa yang mungkin ada."
   ]
  },
  {
   "cell_type": "code",
   "execution_count": 42,
   "metadata": {},
   "outputs": [
    {
     "data": {
      "text/plain": [
       "married              12380\n",
       "civil partnership     4177\n",
       "unmarried             2813\n",
       "divorced              1195\n",
       "widow / widower        960\n",
       "Name: family_status, dtype: int64"
      ]
     },
     "execution_count": 42,
     "metadata": {},
     "output_type": "execute_result"
    }
   ],
   "source": [
    "# Mari kita lihat nilai untuk kolom ini\n",
    "df['family_status'].value_counts()\n"
   ]
  },
  {
   "cell_type": "code",
   "execution_count": 43,
   "metadata": {},
   "outputs": [
    {
     "data": {
      "text/plain": [
       "0"
      ]
     },
     "execution_count": 43,
     "metadata": {},
     "output_type": "execute_result"
    }
   ],
   "source": [
    "# Atasi nilai yang bermasalah di `family_status`, jika ada\n",
    "df['family_status'].isnull().sum()"
   ]
  },
  {
   "cell_type": "markdown",
   "metadata": {},
   "source": [
    "urutan peringkat di df adalah married dan peringkat di missing_df sama, artinya kolom family status bukan penyebab missing value "
   ]
  },
  {
   "cell_type": "code",
   "execution_count": 44,
   "metadata": {},
   "outputs": [
    {
     "data": {
      "text/plain": [
       "married              0.575145\n",
       "civil partnership    0.194053\n",
       "unmarried            0.130685\n",
       "divorced             0.055517\n",
       "widow / widower      0.044599\n",
       "Name: family_status, dtype: float64"
      ]
     },
     "execution_count": 44,
     "metadata": {},
     "output_type": "execute_result"
    }
   ],
   "source": [
    "# Periksa hasilnya - pastikan nilainya telah diperbaiki\n",
    "df['family_status'].value_counts(normalize=True)"
   ]
  },
  {
   "cell_type": "markdown",
   "metadata": {},
   "source": [
    "Memeriksa kolom `gender`. nilai seperti apa yang dimuat di dalam kolom ini dan masalah apa yang mungkin ada."
   ]
  },
  {
   "cell_type": "code",
   "execution_count": 45,
   "metadata": {},
   "outputs": [
    {
     "data": {
      "text/plain": [
       "F      14236\n",
       "M       7288\n",
       "XNA        1\n",
       "Name: gender, dtype: int64"
      ]
     },
     "execution_count": 45,
     "metadata": {},
     "output_type": "execute_result"
    }
   ],
   "source": [
    "# Mari kita liat nilai dalam kolom ini\n",
    "df['gender'].value_counts()"
   ]
  },
  {
   "cell_type": "code",
   "execution_count": 46,
   "metadata": {},
   "outputs": [],
   "source": [
    "# Atasi nilai-nilai yang bermasalah, jika ada\n",
    "df = df.drop(df[df['gender'] == 'XNA'].index)"
   ]
  },
  {
   "cell_type": "code",
   "execution_count": 47,
   "metadata": {},
   "outputs": [
    {
     "data": {
      "text/plain": [
       "F    14236\n",
       "M     7288\n",
       "Name: gender, dtype: int64"
      ]
     },
     "execution_count": 47,
     "metadata": {},
     "output_type": "execute_result"
    }
   ],
   "source": [
    "# Mari kita liat kembali nilai dalam kolom ini\n",
    "df['gender'].value_counts()"
   ]
  },
  {
   "cell_type": "markdown",
   "metadata": {},
   "source": [
    "# Hasil Temuan\n",
    "1. kolom gender juga bukan penyebab terjadi missing value \n",
    "2. Di sini kita langsung saja menghapus nilai yang bernama XNA, karena nilai XNA sendiri tidak memiliki pengaruh yang cukup besar untuk analisa data di bagian kolom gender."
   ]
  },
  {
   "cell_type": "markdown",
   "metadata": {},
   "source": [
    "Memeriksa kolom `income_type`. nilai seperti apa yang dimuat di dalam kolom ini dan masalah apa yang mungkin ada."
   ]
  },
  {
   "cell_type": "code",
   "execution_count": 48,
   "metadata": {},
   "outputs": [
    {
     "data": {
      "text/plain": [
       "employee                       11119\n",
       "business                        5084\n",
       "retiree                         3856\n",
       "civil servant                   1459\n",
       "entrepreneur                       2\n",
       "unemployed                         2\n",
       "student                            1\n",
       "paternity / maternity leave        1\n",
       "Name: income_type, dtype: int64"
      ]
     },
     "execution_count": 48,
     "metadata": {},
     "output_type": "execute_result"
    }
   ],
   "source": [
    "# Mari kita lihat nilai dalam kolom ini\n",
    "df['income_type'].value_counts()"
   ]
  },
  {
   "cell_type": "code",
   "execution_count": 49,
   "metadata": {},
   "outputs": [],
   "source": [
    "# Atasi nilai yang bermasalah, jika ada"
   ]
  },
  {
   "cell_type": "markdown",
   "metadata": {},
   "source": [
    "* kolom income_type juga bukan penyebab terjadi missing value, tidak ada data yang bermasalah"
   ]
  },
  {
   "cell_type": "code",
   "execution_count": 50,
   "metadata": {},
   "outputs": [
    {
     "data": {
      "text/plain": [
       "employee                       0.516586\n",
       "business                       0.236201\n",
       "retiree                        0.179149\n",
       "civil servant                  0.067785\n",
       "entrepreneur                   0.000093\n",
       "unemployed                     0.000093\n",
       "student                        0.000046\n",
       "paternity / maternity leave    0.000046\n",
       "Name: income_type, dtype: float64"
      ]
     },
     "execution_count": 50,
     "metadata": {},
     "output_type": "execute_result"
    }
   ],
   "source": [
    "# Periksa hasilnya - pastikan bahwa masalahnya telah diperbaiki\n",
    "df['income_type'].value_counts(normalize=True)\n"
   ]
  },
  {
   "cell_type": "markdown",
   "metadata": {},
   "source": [
    "# 2.2 Penanganan Nilai Duplikat\n",
    "* Sekarang kita lihat apakah ada duplikat di dalam data kita."
   ]
  },
  {
   "cell_type": "markdown",
   "metadata": {},
   "source": [
    "Memeriksa jika masih ada data yang duplikat"
   ]
  },
  {
   "cell_type": "code",
   "execution_count": 51,
   "metadata": {},
   "outputs": [
    {
     "data": {
      "text/plain": [
       "72"
      ]
     },
     "execution_count": 51,
     "metadata": {},
     "output_type": "execute_result"
    }
   ],
   "source": [
    "# Periksa duplikat\n",
    "df.duplicated().sum()\n"
   ]
  },
  {
   "cell_type": "code",
   "execution_count": 52,
   "metadata": {},
   "outputs": [],
   "source": [
    "# Atasi duplikat, jika ada\n",
    "df = df.drop_duplicates().reset_index(drop=True)"
   ]
  },
  {
   "cell_type": "code",
   "execution_count": 53,
   "metadata": {},
   "outputs": [
    {
     "data": {
      "text/plain": [
       "0"
      ]
     },
     "execution_count": 53,
     "metadata": {},
     "output_type": "execute_result"
    }
   ],
   "source": [
    "# Lakukan pemeriksaan terakhir untuk mengecek apakah kita memiliki duplikat\n",
    "df.duplicated().sum()"
   ]
  },
  {
   "cell_type": "code",
   "execution_count": 54,
   "metadata": {
    "scrolled": true
   },
   "outputs": [
    {
     "data": {
      "text/plain": [
       "(21452, 12)"
      ]
     },
     "execution_count": 54,
     "metadata": {},
     "output_type": "execute_result"
    }
   ],
   "source": [
    "# Periksa ukuran dataset yang sekarang kamu miliki setelah manipulasi pertama yang kamu lakukan\n",
    "df.shape"
   ]
  },
  {
   "cell_type": "markdown",
   "metadata": {},
   "source": [
    "* Terdapat nilai yang terindikasi duplikasi. Hal ini memangkas data dari hasil awal DataFrame yaitu 21525 menjadi 21452"
   ]
  },
  {
   "cell_type": "markdown",
   "metadata": {},
   "source": [
    "# 2.3 Penanganan Nilai Yang Hilang"
   ]
  },
  {
   "cell_type": "markdown",
   "metadata": {},
   "source": [
    "Untuk mempercepat pekerjaan dengan sejumlah data, saya menggunakan dictionary untuk beberapa nilai yang memiliki ID. Saya disini menggunakan kolom education_id dan education."
   ]
  },
  {
   "cell_type": "code",
   "execution_count": 55,
   "metadata": {
    "scrolled": true
   },
   "outputs": [
    {
     "data": {
      "text/html": [
       "<div>\n",
       "<style scoped>\n",
       "    .dataframe tbody tr th:only-of-type {\n",
       "        vertical-align: middle;\n",
       "    }\n",
       "\n",
       "    .dataframe tbody tr th {\n",
       "        vertical-align: top;\n",
       "    }\n",
       "\n",
       "    .dataframe thead th {\n",
       "        text-align: right;\n",
       "    }\n",
       "</style>\n",
       "<table border=\"1\" class=\"dataframe\">\n",
       "  <thead>\n",
       "    <tr style=\"text-align: right;\">\n",
       "      <th></th>\n",
       "      <th>education_id</th>\n",
       "      <th>education</th>\n",
       "    </tr>\n",
       "  </thead>\n",
       "  <tbody>\n",
       "    <tr>\n",
       "      <th>0</th>\n",
       "      <td>0</td>\n",
       "      <td>bachelor's degree</td>\n",
       "    </tr>\n",
       "    <tr>\n",
       "      <th>1</th>\n",
       "      <td>1</td>\n",
       "      <td>secondary education</td>\n",
       "    </tr>\n",
       "    <tr>\n",
       "      <th>13</th>\n",
       "      <td>2</td>\n",
       "      <td>some college</td>\n",
       "    </tr>\n",
       "    <tr>\n",
       "      <th>31</th>\n",
       "      <td>3</td>\n",
       "      <td>primary education</td>\n",
       "    </tr>\n",
       "    <tr>\n",
       "      <th>2962</th>\n",
       "      <td>4</td>\n",
       "      <td>graduate degree</td>\n",
       "    </tr>\n",
       "  </tbody>\n",
       "</table>\n",
       "</div>"
      ],
      "text/plain": [
       "      education_id            education\n",
       "0                0    bachelor's degree\n",
       "1                1  secondary education\n",
       "13               2         some college\n",
       "31               3    primary education\n",
       "2962             4      graduate degree"
      ]
     },
     "execution_count": 55,
     "metadata": {},
     "output_type": "execute_result"
    }
   ],
   "source": [
    "# Temukan dictionary\n",
    "df.loc[:, ['education_id', 'education']].drop_duplicates()"
   ]
  },
  {
   "cell_type": "code",
   "execution_count": 56,
   "metadata": {},
   "outputs": [
    {
     "data": {
      "text/plain": [
       "{0: \"bachelor's degree\",\n",
       " 1: 'secondary education',\n",
       " 2: 'some college',\n",
       " 3: 'primary education',\n",
       " 4: 'graduate degree'}"
      ]
     },
     "execution_count": 56,
     "metadata": {},
     "output_type": "execute_result"
    }
   ],
   "source": [
    "dict(zip(df.education_id, df.education))"
   ]
  },
  {
   "cell_type": "markdown",
   "metadata": {},
   "source": [
    "* Dikarenakan yang hanya memiliki ID yaitu family_status_id dan education_id, maka kita akan tinjau lebih lanjut pada kedua kolom tersebut.\n",
    "* Kita akan coba tinjau education_id bersama education dan family_status_id bersama family_status"
   ]
  },
  {
   "cell_type": "code",
   "execution_count": 57,
   "metadata": {},
   "outputs": [
    {
     "data": {
      "text/html": [
       "<div>\n",
       "<style scoped>\n",
       "    .dataframe tbody tr th:only-of-type {\n",
       "        vertical-align: middle;\n",
       "    }\n",
       "\n",
       "    .dataframe tbody tr th {\n",
       "        vertical-align: top;\n",
       "    }\n",
       "\n",
       "    .dataframe thead th {\n",
       "        text-align: right;\n",
       "    }\n",
       "</style>\n",
       "<table border=\"1\" class=\"dataframe\">\n",
       "  <thead>\n",
       "    <tr style=\"text-align: right;\">\n",
       "      <th></th>\n",
       "      <th>family_status_id</th>\n",
       "      <th>family_status</th>\n",
       "    </tr>\n",
       "  </thead>\n",
       "  <tbody>\n",
       "    <tr>\n",
       "      <th>0</th>\n",
       "      <td>0</td>\n",
       "      <td>married</td>\n",
       "    </tr>\n",
       "    <tr>\n",
       "      <th>4</th>\n",
       "      <td>1</td>\n",
       "      <td>civil partnership</td>\n",
       "    </tr>\n",
       "    <tr>\n",
       "      <th>18</th>\n",
       "      <td>2</td>\n",
       "      <td>widow / widower</td>\n",
       "    </tr>\n",
       "    <tr>\n",
       "      <th>19</th>\n",
       "      <td>3</td>\n",
       "      <td>divorced</td>\n",
       "    </tr>\n",
       "    <tr>\n",
       "      <th>24</th>\n",
       "      <td>4</td>\n",
       "      <td>unmarried</td>\n",
       "    </tr>\n",
       "  </tbody>\n",
       "</table>\n",
       "</div>"
      ],
      "text/plain": [
       "    family_status_id      family_status\n",
       "0                  0            married\n",
       "4                  1  civil partnership\n",
       "18                 2    widow / widower\n",
       "19                 3           divorced\n",
       "24                 4          unmarried"
      ]
     },
     "execution_count": 57,
     "metadata": {},
     "output_type": "execute_result"
    }
   ],
   "source": [
    "df.loc[:, ['family_status_id', 'family_status']].drop_duplicates()"
   ]
  },
  {
   "cell_type": "code",
   "execution_count": 58,
   "metadata": {},
   "outputs": [
    {
     "data": {
      "text/plain": [
       "{0: 'married',\n",
       " 1: 'civil partnership',\n",
       " 2: 'widow / widower',\n",
       " 3: 'divorced',\n",
       " 4: 'unmarried'}"
      ]
     },
     "execution_count": 58,
     "metadata": {},
     "output_type": "execute_result"
    }
   ],
   "source": [
    "dict(zip(df.family_status_id, df.family_status))"
   ]
  },
  {
   "cell_type": "markdown",
   "metadata": {},
   "source": [
    "# Memperbaiki nilai yang hilang di `total_income`"
   ]
  },
  {
   "cell_type": "markdown",
   "metadata": {},
   "source": [
    "Disini saya akan menangani kolom total income yang terdapat missing value nya\n",
    "\n",
    "Pertama saya buat kategori usia untuk nasabah untuk mempermudah pengkategoriannya. Selanjutnya buat kolom baru yang memuat kategori usia.\n"
   ]
  },
  {
   "cell_type": "code",
   "execution_count": 59,
   "metadata": {},
   "outputs": [],
   "source": [
    "# Mari kita tulis sebuah fungsi untuk menghitung kategori usia\n",
    "def category_age(age):\n",
    "    if age <= 20:\n",
    "        category = '0-20 years old'\n",
    "    elif age > 20 and age <=40:\n",
    "        category = '21-40 years old'\n",
    "    elif age > 40 and age <=60:\n",
    "        category = '41-60 years old'\n",
    "    elif age > 60 and age <=80:\n",
    "        category = '61-80 years old'\n",
    "    else:\n",
    "        category > '>80 years old'\n",
    "        \n",
    "    return category"
   ]
  },
  {
   "cell_type": "code",
   "execution_count": 60,
   "metadata": {},
   "outputs": [
    {
     "data": {
      "text/plain": [
       "('21-40 years old', '41-60 years old', '61-80 years old')"
      ]
     },
     "execution_count": 60,
     "metadata": {},
     "output_type": "execute_result"
    }
   ],
   "source": [
    "# Lakukan pengujian untuk melihat apakah fungsimu bekerja atau tidak\n",
    "category_age(age=30) , category_age(age=55) , category_age(age=75)"
   ]
  },
  {
   "cell_type": "code",
   "execution_count": 61,
   "metadata": {},
   "outputs": [],
   "source": [
    "# Buatlah kolom baru berdasarkan fungsi\n",
    "df['category_age'] = df['dob_years'].apply(category_age)"
   ]
  },
  {
   "cell_type": "code",
   "execution_count": 62,
   "metadata": {},
   "outputs": [
    {
     "data": {
      "text/html": [
       "<div>\n",
       "<style scoped>\n",
       "    .dataframe tbody tr th:only-of-type {\n",
       "        vertical-align: middle;\n",
       "    }\n",
       "\n",
       "    .dataframe tbody tr th {\n",
       "        vertical-align: top;\n",
       "    }\n",
       "\n",
       "    .dataframe thead th {\n",
       "        text-align: right;\n",
       "    }\n",
       "</style>\n",
       "<table border=\"1\" class=\"dataframe\">\n",
       "  <thead>\n",
       "    <tr style=\"text-align: right;\">\n",
       "      <th></th>\n",
       "      <th>dob_years</th>\n",
       "      <th>category_age</th>\n",
       "    </tr>\n",
       "  </thead>\n",
       "  <tbody>\n",
       "    <tr>\n",
       "      <th>0</th>\n",
       "      <td>42</td>\n",
       "      <td>41-60 years old</td>\n",
       "    </tr>\n",
       "    <tr>\n",
       "      <th>1</th>\n",
       "      <td>36</td>\n",
       "      <td>21-40 years old</td>\n",
       "    </tr>\n",
       "    <tr>\n",
       "      <th>2</th>\n",
       "      <td>33</td>\n",
       "      <td>21-40 years old</td>\n",
       "    </tr>\n",
       "    <tr>\n",
       "      <th>3</th>\n",
       "      <td>32</td>\n",
       "      <td>21-40 years old</td>\n",
       "    </tr>\n",
       "    <tr>\n",
       "      <th>4</th>\n",
       "      <td>53</td>\n",
       "      <td>41-60 years old</td>\n",
       "    </tr>\n",
       "    <tr>\n",
       "      <th>5</th>\n",
       "      <td>27</td>\n",
       "      <td>21-40 years old</td>\n",
       "    </tr>\n",
       "    <tr>\n",
       "      <th>6</th>\n",
       "      <td>43</td>\n",
       "      <td>41-60 years old</td>\n",
       "    </tr>\n",
       "    <tr>\n",
       "      <th>7</th>\n",
       "      <td>50</td>\n",
       "      <td>41-60 years old</td>\n",
       "    </tr>\n",
       "    <tr>\n",
       "      <th>8</th>\n",
       "      <td>35</td>\n",
       "      <td>21-40 years old</td>\n",
       "    </tr>\n",
       "    <tr>\n",
       "      <th>9</th>\n",
       "      <td>41</td>\n",
       "      <td>41-60 years old</td>\n",
       "    </tr>\n",
       "  </tbody>\n",
       "</table>\n",
       "</div>"
      ],
      "text/plain": [
       "   dob_years     category_age\n",
       "0         42  41-60 years old\n",
       "1         36  21-40 years old\n",
       "2         33  21-40 years old\n",
       "3         32  21-40 years old\n",
       "4         53  41-60 years old\n",
       "5         27  21-40 years old\n",
       "6         43  41-60 years old\n",
       "7         50  41-60 years old\n",
       "8         35  21-40 years old\n",
       "9         41  41-60 years old"
      ]
     },
     "execution_count": 62,
     "metadata": {},
     "output_type": "execute_result"
    }
   ],
   "source": [
    "# Periksa bagaimana nilai di dalam kolom baru\n",
    "df.loc[:, ['dob_years', 'category_age']].head(10)\n"
   ]
  },
  {
   "cell_type": "markdown",
   "metadata": {},
   "source": [
    "* Selanjutnya saya akan menggunakan nilai median untuk mengganti nilai yang hilang di total income, dengan melihat distribusi dob years dan category age.\n",
    "* Kita di sini akan menggunakan pendekatan faktor median, karena dengan menggunakan mean, nilai yang kosong akan ikut terhitung. Hal ini dapat memengaruhi hasil analisa kita."
   ]
  },
  {
   "cell_type": "code",
   "execution_count": 63,
   "metadata": {},
   "outputs": [
    {
     "data": {
      "text/html": [
       "<div>\n",
       "<style scoped>\n",
       "    .dataframe tbody tr th:only-of-type {\n",
       "        vertical-align: middle;\n",
       "    }\n",
       "\n",
       "    .dataframe tbody tr th {\n",
       "        vertical-align: top;\n",
       "    }\n",
       "\n",
       "    .dataframe thead th {\n",
       "        text-align: right;\n",
       "    }\n",
       "</style>\n",
       "<table border=\"1\" class=\"dataframe\">\n",
       "  <thead>\n",
       "    <tr style=\"text-align: right;\">\n",
       "      <th></th>\n",
       "      <th>children</th>\n",
       "      <th>days_employed</th>\n",
       "      <th>dob_years</th>\n",
       "      <th>education</th>\n",
       "      <th>education_id</th>\n",
       "      <th>family_status</th>\n",
       "      <th>family_status_id</th>\n",
       "      <th>gender</th>\n",
       "      <th>income_type</th>\n",
       "      <th>debt</th>\n",
       "      <th>total_income</th>\n",
       "      <th>purpose</th>\n",
       "      <th>category_age</th>\n",
       "    </tr>\n",
       "  </thead>\n",
       "  <tbody>\n",
       "    <tr>\n",
       "      <th>0</th>\n",
       "      <td>1</td>\n",
       "      <td>351.569709</td>\n",
       "      <td>42</td>\n",
       "      <td>bachelor's degree</td>\n",
       "      <td>0</td>\n",
       "      <td>married</td>\n",
       "      <td>0</td>\n",
       "      <td>F</td>\n",
       "      <td>employee</td>\n",
       "      <td>0</td>\n",
       "      <td>40620.102</td>\n",
       "      <td>purchase of the house</td>\n",
       "      <td>41-60 years old</td>\n",
       "    </tr>\n",
       "    <tr>\n",
       "      <th>1</th>\n",
       "      <td>1</td>\n",
       "      <td>167.700156</td>\n",
       "      <td>36</td>\n",
       "      <td>secondary education</td>\n",
       "      <td>1</td>\n",
       "      <td>married</td>\n",
       "      <td>0</td>\n",
       "      <td>F</td>\n",
       "      <td>employee</td>\n",
       "      <td>0</td>\n",
       "      <td>17932.802</td>\n",
       "      <td>car purchase</td>\n",
       "      <td>21-40 years old</td>\n",
       "    </tr>\n",
       "    <tr>\n",
       "      <th>2</th>\n",
       "      <td>0</td>\n",
       "      <td>234.309275</td>\n",
       "      <td>33</td>\n",
       "      <td>secondary education</td>\n",
       "      <td>1</td>\n",
       "      <td>married</td>\n",
       "      <td>0</td>\n",
       "      <td>M</td>\n",
       "      <td>employee</td>\n",
       "      <td>0</td>\n",
       "      <td>23341.752</td>\n",
       "      <td>purchase of the house</td>\n",
       "      <td>21-40 years old</td>\n",
       "    </tr>\n",
       "    <tr>\n",
       "      <th>3</th>\n",
       "      <td>3</td>\n",
       "      <td>171.864467</td>\n",
       "      <td>32</td>\n",
       "      <td>secondary education</td>\n",
       "      <td>1</td>\n",
       "      <td>married</td>\n",
       "      <td>0</td>\n",
       "      <td>M</td>\n",
       "      <td>employee</td>\n",
       "      <td>0</td>\n",
       "      <td>42820.568</td>\n",
       "      <td>supplementary education</td>\n",
       "      <td>21-40 years old</td>\n",
       "    </tr>\n",
       "    <tr>\n",
       "      <th>4</th>\n",
       "      <td>0</td>\n",
       "      <td>14177.753002</td>\n",
       "      <td>53</td>\n",
       "      <td>secondary education</td>\n",
       "      <td>1</td>\n",
       "      <td>civil partnership</td>\n",
       "      <td>1</td>\n",
       "      <td>F</td>\n",
       "      <td>retiree</td>\n",
       "      <td>0</td>\n",
       "      <td>25378.572</td>\n",
       "      <td>to have a wedding</td>\n",
       "      <td>41-60 years old</td>\n",
       "    </tr>\n",
       "    <tr>\n",
       "      <th>...</th>\n",
       "      <td>...</td>\n",
       "      <td>...</td>\n",
       "      <td>...</td>\n",
       "      <td>...</td>\n",
       "      <td>...</td>\n",
       "      <td>...</td>\n",
       "      <td>...</td>\n",
       "      <td>...</td>\n",
       "      <td>...</td>\n",
       "      <td>...</td>\n",
       "      <td>...</td>\n",
       "      <td>...</td>\n",
       "      <td>...</td>\n",
       "    </tr>\n",
       "    <tr>\n",
       "      <th>21447</th>\n",
       "      <td>1</td>\n",
       "      <td>188.721528</td>\n",
       "      <td>43</td>\n",
       "      <td>secondary education</td>\n",
       "      <td>1</td>\n",
       "      <td>civil partnership</td>\n",
       "      <td>1</td>\n",
       "      <td>F</td>\n",
       "      <td>business</td>\n",
       "      <td>0</td>\n",
       "      <td>35966.698</td>\n",
       "      <td>housing transactions</td>\n",
       "      <td>41-60 years old</td>\n",
       "    </tr>\n",
       "    <tr>\n",
       "      <th>21448</th>\n",
       "      <td>0</td>\n",
       "      <td>14330.725172</td>\n",
       "      <td>67</td>\n",
       "      <td>secondary education</td>\n",
       "      <td>1</td>\n",
       "      <td>married</td>\n",
       "      <td>0</td>\n",
       "      <td>F</td>\n",
       "      <td>retiree</td>\n",
       "      <td>0</td>\n",
       "      <td>24959.969</td>\n",
       "      <td>purchase of a car</td>\n",
       "      <td>61-80 years old</td>\n",
       "    </tr>\n",
       "    <tr>\n",
       "      <th>21449</th>\n",
       "      <td>1</td>\n",
       "      <td>88.056120</td>\n",
       "      <td>38</td>\n",
       "      <td>secondary education</td>\n",
       "      <td>1</td>\n",
       "      <td>civil partnership</td>\n",
       "      <td>1</td>\n",
       "      <td>M</td>\n",
       "      <td>employee</td>\n",
       "      <td>1</td>\n",
       "      <td>14347.610</td>\n",
       "      <td>property</td>\n",
       "      <td>21-40 years old</td>\n",
       "    </tr>\n",
       "    <tr>\n",
       "      <th>21450</th>\n",
       "      <td>3</td>\n",
       "      <td>129.686738</td>\n",
       "      <td>38</td>\n",
       "      <td>secondary education</td>\n",
       "      <td>1</td>\n",
       "      <td>married</td>\n",
       "      <td>0</td>\n",
       "      <td>M</td>\n",
       "      <td>employee</td>\n",
       "      <td>1</td>\n",
       "      <td>39054.888</td>\n",
       "      <td>buying my own car</td>\n",
       "      <td>21-40 years old</td>\n",
       "    </tr>\n",
       "    <tr>\n",
       "      <th>21451</th>\n",
       "      <td>2</td>\n",
       "      <td>82.687816</td>\n",
       "      <td>40</td>\n",
       "      <td>secondary education</td>\n",
       "      <td>1</td>\n",
       "      <td>married</td>\n",
       "      <td>0</td>\n",
       "      <td>F</td>\n",
       "      <td>employee</td>\n",
       "      <td>0</td>\n",
       "      <td>13127.587</td>\n",
       "      <td>to buy a car</td>\n",
       "      <td>21-40 years old</td>\n",
       "    </tr>\n",
       "  </tbody>\n",
       "</table>\n",
       "<p>19350 rows × 13 columns</p>\n",
       "</div>"
      ],
      "text/plain": [
       "       children  days_employed  dob_years            education  education_id  \\\n",
       "0             1     351.569709         42    bachelor's degree             0   \n",
       "1             1     167.700156         36  secondary education             1   \n",
       "2             0     234.309275         33  secondary education             1   \n",
       "3             3     171.864467         32  secondary education             1   \n",
       "4             0   14177.753002         53  secondary education             1   \n",
       "...         ...            ...        ...                  ...           ...   \n",
       "21447         1     188.721528         43  secondary education             1   \n",
       "21448         0   14330.725172         67  secondary education             1   \n",
       "21449         1      88.056120         38  secondary education             1   \n",
       "21450         3     129.686738         38  secondary education             1   \n",
       "21451         2      82.687816         40  secondary education             1   \n",
       "\n",
       "           family_status  family_status_id gender income_type  debt  \\\n",
       "0                married                 0      F    employee     0   \n",
       "1                married                 0      F    employee     0   \n",
       "2                married                 0      M    employee     0   \n",
       "3                married                 0      M    employee     0   \n",
       "4      civil partnership                 1      F     retiree     0   \n",
       "...                  ...               ...    ...         ...   ...   \n",
       "21447  civil partnership                 1      F    business     0   \n",
       "21448            married                 0      F     retiree     0   \n",
       "21449  civil partnership                 1      M    employee     1   \n",
       "21450            married                 0      M    employee     1   \n",
       "21451            married                 0      F    employee     0   \n",
       "\n",
       "       total_income                  purpose     category_age  \n",
       "0         40620.102    purchase of the house  41-60 years old  \n",
       "1         17932.802             car purchase  21-40 years old  \n",
       "2         23341.752    purchase of the house  21-40 years old  \n",
       "3         42820.568  supplementary education  21-40 years old  \n",
       "4         25378.572        to have a wedding  41-60 years old  \n",
       "...             ...                      ...              ...  \n",
       "21447     35966.698     housing transactions  41-60 years old  \n",
       "21448     24959.969        purchase of a car  61-80 years old  \n",
       "21449     14347.610                 property  21-40 years old  \n",
       "21450     39054.888        buying my own car  21-40 years old  \n",
       "21451     13127.587             to buy a car  21-40 years old  \n",
       "\n",
       "[19350 rows x 13 columns]"
      ]
     },
     "execution_count": 63,
     "metadata": {},
     "output_type": "execute_result"
    }
   ],
   "source": [
    "# Buat tabel tanpa nilai yang hilang dan tampilkan beberapa barisnya untuk memastikan semuanya berjalan dengan baik\n",
    "df_nomiss = df.loc[~df['total_income'].isnull()]\n",
    "df_nomiss"
   ]
  },
  {
   "cell_type": "code",
   "execution_count": 64,
   "metadata": {},
   "outputs": [
    {
     "data": {
      "text/html": [
       "<div>\n",
       "<style scoped>\n",
       "    .dataframe tbody tr th:only-of-type {\n",
       "        vertical-align: middle;\n",
       "    }\n",
       "\n",
       "    .dataframe tbody tr th {\n",
       "        vertical-align: top;\n",
       "    }\n",
       "\n",
       "    .dataframe thead th {\n",
       "        text-align: right;\n",
       "    }\n",
       "</style>\n",
       "<table border=\"1\" class=\"dataframe\">\n",
       "  <thead>\n",
       "    <tr style=\"text-align: right;\">\n",
       "      <th></th>\n",
       "      <th>category_age</th>\n",
       "      <th>total_income</th>\n",
       "    </tr>\n",
       "  </thead>\n",
       "  <tbody>\n",
       "    <tr>\n",
       "      <th>0</th>\n",
       "      <td>0-20 years old</td>\n",
       "      <td>19586.303559</td>\n",
       "    </tr>\n",
       "    <tr>\n",
       "      <th>1</th>\n",
       "      <td>21-40 years old</td>\n",
       "      <td>27421.165343</td>\n",
       "    </tr>\n",
       "    <tr>\n",
       "      <th>2</th>\n",
       "      <td>41-60 years old</td>\n",
       "      <td>27034.666405</td>\n",
       "    </tr>\n",
       "    <tr>\n",
       "      <th>3</th>\n",
       "      <td>61-80 years old</td>\n",
       "      <td>23057.777452</td>\n",
       "    </tr>\n",
       "  </tbody>\n",
       "</table>\n",
       "</div>"
      ],
      "text/plain": [
       "      category_age  total_income\n",
       "0   0-20 years old  19586.303559\n",
       "1  21-40 years old  27421.165343\n",
       "2  41-60 years old  27034.666405\n",
       "3  61-80 years old  23057.777452"
      ]
     },
     "execution_count": 64,
     "metadata": {},
     "output_type": "execute_result"
    }
   ],
   "source": [
    "# Perhatikan nilai rata-rata untuk pendapatan berdasarkan faktor yang telah kamu identifikasi\n",
    "df_nomiss.groupby('category_age')['total_income'].mean().reset_index()"
   ]
  },
  {
   "cell_type": "code",
   "execution_count": 65,
   "metadata": {
    "scrolled": true
   },
   "outputs": [
    {
     "data": {
      "text/html": [
       "<div>\n",
       "<style scoped>\n",
       "    .dataframe tbody tr th:only-of-type {\n",
       "        vertical-align: middle;\n",
       "    }\n",
       "\n",
       "    .dataframe tbody tr th {\n",
       "        vertical-align: top;\n",
       "    }\n",
       "\n",
       "    .dataframe thead th {\n",
       "        text-align: right;\n",
       "    }\n",
       "</style>\n",
       "<table border=\"1\" class=\"dataframe\">\n",
       "  <thead>\n",
       "    <tr style=\"text-align: right;\">\n",
       "      <th></th>\n",
       "      <th>category_age</th>\n",
       "      <th>total_income</th>\n",
       "    </tr>\n",
       "  </thead>\n",
       "  <tbody>\n",
       "    <tr>\n",
       "      <th>0</th>\n",
       "      <td>0-20 years old</td>\n",
       "      <td>17257.2770</td>\n",
       "    </tr>\n",
       "    <tr>\n",
       "      <th>1</th>\n",
       "      <td>21-40 years old</td>\n",
       "      <td>23972.1930</td>\n",
       "    </tr>\n",
       "    <tr>\n",
       "      <th>2</th>\n",
       "      <td>41-60 years old</td>\n",
       "      <td>23219.8075</td>\n",
       "    </tr>\n",
       "    <tr>\n",
       "      <th>3</th>\n",
       "      <td>61-80 years old</td>\n",
       "      <td>19637.0560</td>\n",
       "    </tr>\n",
       "  </tbody>\n",
       "</table>\n",
       "</div>"
      ],
      "text/plain": [
       "      category_age  total_income\n",
       "0   0-20 years old    17257.2770\n",
       "1  21-40 years old    23972.1930\n",
       "2  41-60 years old    23219.8075\n",
       "3  61-80 years old    19637.0560"
      ]
     },
     "execution_count": 65,
     "metadata": {},
     "output_type": "execute_result"
    }
   ],
   "source": [
    "# Perhatikan nilai median untuk pendapatan berdasarkan faktor yang telah kamu identifikasi\n",
    "df_nomiss.groupby('category_age')['total_income'].median().reset_index()"
   ]
  },
  {
   "cell_type": "markdown",
   "metadata": {},
   "source": [
    "* Kita akan menggunakan pendekatan median. Karena dengan pendekata mean, nilai hilang akan berdampak dengan method .mean() sehingga nilai kosong ikut terhitung. Oleh karena itu, kita akan melakukan pendekatan menggunakan median yaitu mencari nilai tengah."
   ]
  },
  {
   "cell_type": "code",
   "execution_count": 66,
   "metadata": {},
   "outputs": [
    {
     "data": {
      "text/plain": [
       "23972.193"
      ]
     },
     "execution_count": 66,
     "metadata": {},
     "output_type": "execute_result"
    }
   ],
   "source": [
    "# Bikin prosedur function, mau isi missing value berdasarkan median kolom total income di setiap category age\n",
    "median = pd.pivot_table(df, columns='category_age', values='total_income', aggfunc='median')\n",
    "median['21-40 years old'][0]"
   ]
  },
  {
   "cell_type": "code",
   "execution_count": 67,
   "metadata": {},
   "outputs": [],
   "source": [
    "# Buat metode memasukkan median kedalam missing value (per categori umur)\n",
    "df.loc[(df['category_age']=='21-40 years old') & (df['total_income'].isnull()), 'total_income'] = median['21-40 years old'][0]"
   ]
  },
  {
   "cell_type": "code",
   "execution_count": 68,
   "metadata": {},
   "outputs": [],
   "source": [
    "# Lakukan looping untuk metode yang diatas\n",
    "for col in median.columns:\n",
    "    df.loc[(df['category_age']==col) & (df['total_income'].isnull()), 'total_income'] = median[col][0]"
   ]
  },
  {
   "cell_type": "code",
   "execution_count": 69,
   "metadata": {},
   "outputs": [
    {
     "data": {
      "text/plain": [
       "children               0\n",
       "days_employed       2102\n",
       "dob_years              0\n",
       "education              0\n",
       "education_id           0\n",
       "family_status          0\n",
       "family_status_id       0\n",
       "gender                 0\n",
       "income_type            0\n",
       "debt                   0\n",
       "total_income           0\n",
       "purpose                0\n",
       "category_age           0\n",
       "dtype: int64"
      ]
     },
     "execution_count": 69,
     "metadata": {},
     "output_type": "execute_result"
    }
   ],
   "source": [
    "# Cek apakah sudah berhasil untuk masalah missing value di kolom total_income\n",
    "df.isnull().sum()"
   ]
  },
  {
   "cell_type": "code",
   "execution_count": 70,
   "metadata": {},
   "outputs": [],
   "source": [
    "#  Tulis fungsi yang akan kita gunakan untuk mengisi nilai yang hilang\n",
    "def group_fillna(dataframe, group_col, missing_col):\n",
    "    median = pd.pivot_table(dataframe, columns=group_col, values=missing_col, aggfunc='median')\n",
    "        \n",
    "    for col in median.columns:\n",
    "        dataframe.loc[(dataframe[group_col]==col) & (dataframe[missing_col].isnull()), missing_col] = median[col][0]\n",
    "    \n",
    "    return dataframe"
   ]
  },
  {
   "cell_type": "code",
   "execution_count": 71,
   "metadata": {},
   "outputs": [
    {
     "data": {
      "text/plain": [
       "41-60 years old    9878\n",
       "21-40 years old    9383\n",
       "61-80 years old    2126\n",
       "0-20 years old       65\n",
       "Name: category_age, dtype: int64"
      ]
     },
     "execution_count": 71,
     "metadata": {},
     "output_type": "execute_result"
    }
   ],
   "source": [
    "# Memeriksa bagaimana nilai di dalam kolom baru\n",
    "df['category_age'].value_counts()"
   ]
  },
  {
   "cell_type": "code",
   "execution_count": 72,
   "metadata": {},
   "outputs": [
    {
     "data": {
      "text/html": [
       "<div>\n",
       "<style scoped>\n",
       "    .dataframe tbody tr th:only-of-type {\n",
       "        vertical-align: middle;\n",
       "    }\n",
       "\n",
       "    .dataframe tbody tr th {\n",
       "        vertical-align: top;\n",
       "    }\n",
       "\n",
       "    .dataframe thead th {\n",
       "        text-align: right;\n",
       "    }\n",
       "</style>\n",
       "<table border=\"1\" class=\"dataframe\">\n",
       "  <thead>\n",
       "    <tr style=\"text-align: right;\">\n",
       "      <th></th>\n",
       "      <th>children</th>\n",
       "      <th>days_employed</th>\n",
       "      <th>dob_years</th>\n",
       "      <th>education</th>\n",
       "      <th>education_id</th>\n",
       "      <th>family_status</th>\n",
       "      <th>family_status_id</th>\n",
       "      <th>gender</th>\n",
       "      <th>income_type</th>\n",
       "      <th>debt</th>\n",
       "      <th>total_income</th>\n",
       "      <th>purpose</th>\n",
       "      <th>category_age</th>\n",
       "    </tr>\n",
       "  </thead>\n",
       "  <tbody>\n",
       "    <tr>\n",
       "      <th>0</th>\n",
       "      <td>1</td>\n",
       "      <td>351.569709</td>\n",
       "      <td>42</td>\n",
       "      <td>bachelor's degree</td>\n",
       "      <td>0</td>\n",
       "      <td>married</td>\n",
       "      <td>0</td>\n",
       "      <td>F</td>\n",
       "      <td>employee</td>\n",
       "      <td>0</td>\n",
       "      <td>40620.102</td>\n",
       "      <td>purchase of the house</td>\n",
       "      <td>41-60 years old</td>\n",
       "    </tr>\n",
       "    <tr>\n",
       "      <th>1</th>\n",
       "      <td>1</td>\n",
       "      <td>167.700156</td>\n",
       "      <td>36</td>\n",
       "      <td>secondary education</td>\n",
       "      <td>1</td>\n",
       "      <td>married</td>\n",
       "      <td>0</td>\n",
       "      <td>F</td>\n",
       "      <td>employee</td>\n",
       "      <td>0</td>\n",
       "      <td>17932.802</td>\n",
       "      <td>car purchase</td>\n",
       "      <td>21-40 years old</td>\n",
       "    </tr>\n",
       "    <tr>\n",
       "      <th>2</th>\n",
       "      <td>0</td>\n",
       "      <td>234.309275</td>\n",
       "      <td>33</td>\n",
       "      <td>secondary education</td>\n",
       "      <td>1</td>\n",
       "      <td>married</td>\n",
       "      <td>0</td>\n",
       "      <td>M</td>\n",
       "      <td>employee</td>\n",
       "      <td>0</td>\n",
       "      <td>23341.752</td>\n",
       "      <td>purchase of the house</td>\n",
       "      <td>21-40 years old</td>\n",
       "    </tr>\n",
       "    <tr>\n",
       "      <th>3</th>\n",
       "      <td>3</td>\n",
       "      <td>171.864467</td>\n",
       "      <td>32</td>\n",
       "      <td>secondary education</td>\n",
       "      <td>1</td>\n",
       "      <td>married</td>\n",
       "      <td>0</td>\n",
       "      <td>M</td>\n",
       "      <td>employee</td>\n",
       "      <td>0</td>\n",
       "      <td>42820.568</td>\n",
       "      <td>supplementary education</td>\n",
       "      <td>21-40 years old</td>\n",
       "    </tr>\n",
       "    <tr>\n",
       "      <th>4</th>\n",
       "      <td>0</td>\n",
       "      <td>14177.753002</td>\n",
       "      <td>53</td>\n",
       "      <td>secondary education</td>\n",
       "      <td>1</td>\n",
       "      <td>civil partnership</td>\n",
       "      <td>1</td>\n",
       "      <td>F</td>\n",
       "      <td>retiree</td>\n",
       "      <td>0</td>\n",
       "      <td>25378.572</td>\n",
       "      <td>to have a wedding</td>\n",
       "      <td>41-60 years old</td>\n",
       "    </tr>\n",
       "  </tbody>\n",
       "</table>\n",
       "</div>"
      ],
      "text/plain": [
       "   children  days_employed  dob_years            education  education_id  \\\n",
       "0         1     351.569709         42    bachelor's degree             0   \n",
       "1         1     167.700156         36  secondary education             1   \n",
       "2         0     234.309275         33  secondary education             1   \n",
       "3         3     171.864467         32  secondary education             1   \n",
       "4         0   14177.753002         53  secondary education             1   \n",
       "\n",
       "       family_status  family_status_id gender income_type  debt  total_income  \\\n",
       "0            married                 0      F    employee     0     40620.102   \n",
       "1            married                 0      F    employee     0     17932.802   \n",
       "2            married                 0      M    employee     0     23341.752   \n",
       "3            married                 0      M    employee     0     42820.568   \n",
       "4  civil partnership                 1      F     retiree     0     25378.572   \n",
       "\n",
       "                   purpose     category_age  \n",
       "0    purchase of the house  41-60 years old  \n",
       "1             car purchase  21-40 years old  \n",
       "2    purchase of the house  21-40 years old  \n",
       "3  supplementary education  21-40 years old  \n",
       "4        to have a wedding  41-60 years old  "
      ]
     },
     "execution_count": 72,
     "metadata": {},
     "output_type": "execute_result"
    }
   ],
   "source": [
    "# Terapkan fungsi tersebut ke setiap baris\n",
    "df = group_fillna(dataframe=df, group_col='category_age', missing_col='total_income')\n",
    "df.head()"
   ]
  },
  {
   "cell_type": "code",
   "execution_count": 73,
   "metadata": {},
   "outputs": [
    {
     "data": {
      "text/plain": [
       "children               0\n",
       "days_employed       2102\n",
       "dob_years              0\n",
       "education              0\n",
       "education_id           0\n",
       "family_status          0\n",
       "family_status_id       0\n",
       "gender                 0\n",
       "income_type            0\n",
       "debt                   0\n",
       "total_income           0\n",
       "purpose                0\n",
       "category_age           0\n",
       "dtype: int64"
      ]
     },
     "execution_count": 73,
     "metadata": {},
     "output_type": "execute_result"
    }
   ],
   "source": [
    "# Periksa apakah kita mendapatkan kesalahan\n",
    "df.isnull().sum()"
   ]
  },
  {
   "cell_type": "code",
   "execution_count": 74,
   "metadata": {},
   "outputs": [],
   "source": [
    "# Ganti nilai yang hilang jika terdapat kesalahan\n",
    "df = group_fillna(dataframe=df, group_col='category_age', missing_col='total_income')"
   ]
  },
  {
   "cell_type": "markdown",
   "metadata": {},
   "source": [
    "* Setelah itu, selesai dengan `total_income`, kita akan periksa apakah jumlah total nilai di kolom ini sesuai dengan jumlah nilai di kolom lain."
   ]
  },
  {
   "cell_type": "code",
   "execution_count": 75,
   "metadata": {},
   "outputs": [
    {
     "name": "stdout",
     "output_type": "stream",
     "text": [
      "<class 'pandas.core.frame.DataFrame'>\n",
      "RangeIndex: 21452 entries, 0 to 21451\n",
      "Data columns (total 13 columns):\n",
      " #   Column            Non-Null Count  Dtype  \n",
      "---  ------            --------------  -----  \n",
      " 0   children          21452 non-null  int64  \n",
      " 1   days_employed     19350 non-null  float64\n",
      " 2   dob_years         21452 non-null  int64  \n",
      " 3   education         21452 non-null  object \n",
      " 4   education_id      21452 non-null  int64  \n",
      " 5   family_status     21452 non-null  object \n",
      " 6   family_status_id  21452 non-null  int64  \n",
      " 7   gender            21452 non-null  object \n",
      " 8   income_type       21452 non-null  object \n",
      " 9   debt              21452 non-null  int64  \n",
      " 10  total_income      21452 non-null  float64\n",
      " 11  purpose           21452 non-null  object \n",
      " 12  category_age      21452 non-null  object \n",
      "dtypes: float64(2), int64(5), object(6)\n",
      "memory usage: 2.1+ MB\n"
     ]
    }
   ],
   "source": [
    "# Periksa jumlah entri di kolom\n",
    "df.info()\n"
   ]
  },
  {
   "cell_type": "markdown",
   "metadata": {},
   "source": [
    "# Memperbaiki nilai di `days_employed`"
   ]
  },
  {
   "cell_type": "markdown",
   "metadata": {},
   "source": [
    "* Di sini juga akan sama prosesnya dengan pendekatan median, agar tidak terganggu dengan adanya perhitungan yang melibatkan nilai hilang"
   ]
  },
  {
   "cell_type": "code",
   "execution_count": 76,
   "metadata": {
    "pycharm": {
     "name": "#%%\n"
    }
   },
   "outputs": [
    {
     "data": {
      "text/html": [
       "<div>\n",
       "<style scoped>\n",
       "    .dataframe tbody tr th:only-of-type {\n",
       "        vertical-align: middle;\n",
       "    }\n",
       "\n",
       "    .dataframe tbody tr th {\n",
       "        vertical-align: top;\n",
       "    }\n",
       "\n",
       "    .dataframe thead th {\n",
       "        text-align: right;\n",
       "    }\n",
       "</style>\n",
       "<table border=\"1\" class=\"dataframe\">\n",
       "  <thead>\n",
       "    <tr style=\"text-align: right;\">\n",
       "      <th>income_type</th>\n",
       "      <th>business</th>\n",
       "      <th>civil servant</th>\n",
       "      <th>employee</th>\n",
       "      <th>entrepreneur</th>\n",
       "      <th>paternity / maternity leave</th>\n",
       "      <th>retiree</th>\n",
       "      <th>student</th>\n",
       "      <th>unemployed</th>\n",
       "    </tr>\n",
       "  </thead>\n",
       "  <tbody>\n",
       "    <tr>\n",
       "      <th>days_employed</th>\n",
       "      <td>64.430551</td>\n",
       "      <td>112.057015</td>\n",
       "      <td>65.591784</td>\n",
       "      <td>21.702003</td>\n",
       "      <td>137.364998</td>\n",
       "      <td>15217.221094</td>\n",
       "      <td>24.114648</td>\n",
       "      <td>15267.235531</td>\n",
       "    </tr>\n",
       "  </tbody>\n",
       "</table>\n",
       "</div>"
      ],
      "text/plain": [
       "income_type     business  civil servant   employee  entrepreneur  \\\n",
       "days_employed  64.430551     112.057015  65.591784     21.702003   \n",
       "\n",
       "income_type    paternity / maternity leave       retiree    student  \\\n",
       "days_employed                   137.364998  15217.221094  24.114648   \n",
       "\n",
       "income_type      unemployed  \n",
       "days_employed  15267.235531  "
      ]
     },
     "execution_count": 76,
     "metadata": {},
     "output_type": "execute_result"
    }
   ],
   "source": [
    "# Distribusi median dari `days_employed` berdasarkan parameter yang kamu identifikasi\n",
    "median = pd.pivot_table(df, columns='income_type', values='days_employed', aggfunc='median')\n",
    "median"
   ]
  },
  {
   "cell_type": "code",
   "execution_count": 77,
   "metadata": {},
   "outputs": [
    {
     "data": {
      "text/html": [
       "<div>\n",
       "<style scoped>\n",
       "    .dataframe tbody tr th:only-of-type {\n",
       "        vertical-align: middle;\n",
       "    }\n",
       "\n",
       "    .dataframe tbody tr th {\n",
       "        vertical-align: top;\n",
       "    }\n",
       "\n",
       "    .dataframe thead th {\n",
       "        text-align: right;\n",
       "    }\n",
       "</style>\n",
       "<table border=\"1\" class=\"dataframe\">\n",
       "  <thead>\n",
       "    <tr style=\"text-align: right;\">\n",
       "      <th>income_type</th>\n",
       "      <th>business</th>\n",
       "      <th>civil servant</th>\n",
       "      <th>employee</th>\n",
       "      <th>entrepreneur</th>\n",
       "      <th>paternity / maternity leave</th>\n",
       "      <th>retiree</th>\n",
       "      <th>student</th>\n",
       "      <th>unemployed</th>\n",
       "    </tr>\n",
       "  </thead>\n",
       "  <tbody>\n",
       "    <tr>\n",
       "      <th>days_employed</th>\n",
       "      <td>87.977934</td>\n",
       "      <td>141.662371</td>\n",
       "      <td>96.937467</td>\n",
       "      <td>21.702003</td>\n",
       "      <td>137.364998</td>\n",
       "      <td>15208.478802</td>\n",
       "      <td>24.114648</td>\n",
       "      <td>15267.235531</td>\n",
       "    </tr>\n",
       "  </tbody>\n",
       "</table>\n",
       "</div>"
      ],
      "text/plain": [
       "income_type     business  civil servant   employee  entrepreneur  \\\n",
       "days_employed  87.977934     141.662371  96.937467     21.702003   \n",
       "\n",
       "income_type    paternity / maternity leave       retiree    student  \\\n",
       "days_employed                   137.364998  15208.478802  24.114648   \n",
       "\n",
       "income_type      unemployed  \n",
       "days_employed  15267.235531  "
      ]
     },
     "execution_count": 77,
     "metadata": {},
     "output_type": "execute_result"
    }
   ],
   "source": [
    "# Distribusi rata-rata dari `days_employed` berdasarkan parameter yang kamu identifikasi\n",
    "mean = pd.pivot_table(df, columns='income_type', values='days_employed', aggfunc='mean')\n",
    "mean"
   ]
  },
  {
   "cell_type": "markdown",
   "metadata": {},
   "source": [
    "\n",
    "* Sama seperti sebelumnya, kita akan menggunakan pendekatan median. Karena dengan pendekata mean, nilai hilang akan berdampak dengan method .mean(). Oleh karena itu, kita akan melakukan pendekatan menggunakan median yaitu mencari nilai tengah."
   ]
  },
  {
   "cell_type": "code",
   "execution_count": 78,
   "metadata": {},
   "outputs": [],
   "source": [
    "# Mari tulis fungsi yang menghitung rata-rata atau median (tergantung keputusanmu) berdasarkan parameter yang kamu identifikasi\n",
    "def group_fillna(dataframe, group_col, missing_col):\n",
    "    median = pd.pivot_table(df, columns=group_col, values=missing_col, aggfunc='median')\n",
    "\n",
    "    for col in median.columns:\n",
    "        df.loc[(df[group_col]==col) & (df[missing_col].isnull()), missing_col] = median[col][0]\n",
    "\n",
    "    return df"
   ]
  },
  {
   "cell_type": "code",
   "execution_count": 79,
   "metadata": {},
   "outputs": [
    {
     "data": {
      "text/plain": [
       "children               0\n",
       "days_employed       2102\n",
       "dob_years              0\n",
       "education              0\n",
       "education_id           0\n",
       "family_status          0\n",
       "family_status_id       0\n",
       "gender                 0\n",
       "income_type            0\n",
       "debt                   0\n",
       "total_income           0\n",
       "purpose                0\n",
       "category_age           0\n",
       "dtype: int64"
      ]
     },
     "execution_count": 79,
     "metadata": {},
     "output_type": "execute_result"
    }
   ],
   "source": [
    "# Periksa apakah fungsimu bekerja\n",
    "df.isnull().sum()\n"
   ]
  },
  {
   "cell_type": "code",
   "execution_count": 80,
   "metadata": {},
   "outputs": [
    {
     "data": {
      "text/html": [
       "<div>\n",
       "<style scoped>\n",
       "    .dataframe tbody tr th:only-of-type {\n",
       "        vertical-align: middle;\n",
       "    }\n",
       "\n",
       "    .dataframe tbody tr th {\n",
       "        vertical-align: top;\n",
       "    }\n",
       "\n",
       "    .dataframe thead th {\n",
       "        text-align: right;\n",
       "    }\n",
       "</style>\n",
       "<table border=\"1\" class=\"dataframe\">\n",
       "  <thead>\n",
       "    <tr style=\"text-align: right;\">\n",
       "      <th></th>\n",
       "      <th>children</th>\n",
       "      <th>days_employed</th>\n",
       "      <th>dob_years</th>\n",
       "      <th>education</th>\n",
       "      <th>education_id</th>\n",
       "      <th>family_status</th>\n",
       "      <th>family_status_id</th>\n",
       "      <th>gender</th>\n",
       "      <th>income_type</th>\n",
       "      <th>debt</th>\n",
       "      <th>total_income</th>\n",
       "      <th>purpose</th>\n",
       "      <th>category_age</th>\n",
       "    </tr>\n",
       "  </thead>\n",
       "  <tbody>\n",
       "    <tr>\n",
       "      <th>0</th>\n",
       "      <td>1</td>\n",
       "      <td>351.569709</td>\n",
       "      <td>42</td>\n",
       "      <td>bachelor's degree</td>\n",
       "      <td>0</td>\n",
       "      <td>married</td>\n",
       "      <td>0</td>\n",
       "      <td>F</td>\n",
       "      <td>employee</td>\n",
       "      <td>0</td>\n",
       "      <td>40620.102</td>\n",
       "      <td>purchase of the house</td>\n",
       "      <td>41-60 years old</td>\n",
       "    </tr>\n",
       "    <tr>\n",
       "      <th>1</th>\n",
       "      <td>1</td>\n",
       "      <td>167.700156</td>\n",
       "      <td>36</td>\n",
       "      <td>secondary education</td>\n",
       "      <td>1</td>\n",
       "      <td>married</td>\n",
       "      <td>0</td>\n",
       "      <td>F</td>\n",
       "      <td>employee</td>\n",
       "      <td>0</td>\n",
       "      <td>17932.802</td>\n",
       "      <td>car purchase</td>\n",
       "      <td>21-40 years old</td>\n",
       "    </tr>\n",
       "    <tr>\n",
       "      <th>2</th>\n",
       "      <td>0</td>\n",
       "      <td>234.309275</td>\n",
       "      <td>33</td>\n",
       "      <td>secondary education</td>\n",
       "      <td>1</td>\n",
       "      <td>married</td>\n",
       "      <td>0</td>\n",
       "      <td>M</td>\n",
       "      <td>employee</td>\n",
       "      <td>0</td>\n",
       "      <td>23341.752</td>\n",
       "      <td>purchase of the house</td>\n",
       "      <td>21-40 years old</td>\n",
       "    </tr>\n",
       "    <tr>\n",
       "      <th>3</th>\n",
       "      <td>3</td>\n",
       "      <td>171.864467</td>\n",
       "      <td>32</td>\n",
       "      <td>secondary education</td>\n",
       "      <td>1</td>\n",
       "      <td>married</td>\n",
       "      <td>0</td>\n",
       "      <td>M</td>\n",
       "      <td>employee</td>\n",
       "      <td>0</td>\n",
       "      <td>42820.568</td>\n",
       "      <td>supplementary education</td>\n",
       "      <td>21-40 years old</td>\n",
       "    </tr>\n",
       "    <tr>\n",
       "      <th>4</th>\n",
       "      <td>0</td>\n",
       "      <td>14177.753002</td>\n",
       "      <td>53</td>\n",
       "      <td>secondary education</td>\n",
       "      <td>1</td>\n",
       "      <td>civil partnership</td>\n",
       "      <td>1</td>\n",
       "      <td>F</td>\n",
       "      <td>retiree</td>\n",
       "      <td>0</td>\n",
       "      <td>25378.572</td>\n",
       "      <td>to have a wedding</td>\n",
       "      <td>41-60 years old</td>\n",
       "    </tr>\n",
       "  </tbody>\n",
       "</table>\n",
       "</div>"
      ],
      "text/plain": [
       "   children  days_employed  dob_years            education  education_id  \\\n",
       "0         1     351.569709         42    bachelor's degree             0   \n",
       "1         1     167.700156         36  secondary education             1   \n",
       "2         0     234.309275         33  secondary education             1   \n",
       "3         3     171.864467         32  secondary education             1   \n",
       "4         0   14177.753002         53  secondary education             1   \n",
       "\n",
       "       family_status  family_status_id gender income_type  debt  total_income  \\\n",
       "0            married                 0      F    employee     0     40620.102   \n",
       "1            married                 0      F    employee     0     17932.802   \n",
       "2            married                 0      M    employee     0     23341.752   \n",
       "3            married                 0      M    employee     0     42820.568   \n",
       "4  civil partnership                 1      F     retiree     0     25378.572   \n",
       "\n",
       "                   purpose     category_age  \n",
       "0    purchase of the house  41-60 years old  \n",
       "1             car purchase  21-40 years old  \n",
       "2    purchase of the house  21-40 years old  \n",
       "3  supplementary education  21-40 years old  \n",
       "4        to have a wedding  41-60 years old  "
      ]
     },
     "execution_count": 80,
     "metadata": {},
     "output_type": "execute_result"
    }
   ],
   "source": [
    "# Terapkan fungsi ke income_type\n",
    "df = group_fillna(dataframe=df, group_col='income_type', missing_col='days_employed')\n",
    "df.head()\n"
   ]
  },
  {
   "cell_type": "code",
   "execution_count": 81,
   "metadata": {},
   "outputs": [
    {
     "data": {
      "text/plain": [
       "children            0\n",
       "days_employed       0\n",
       "dob_years           0\n",
       "education           0\n",
       "education_id        0\n",
       "family_status       0\n",
       "family_status_id    0\n",
       "gender              0\n",
       "income_type         0\n",
       "debt                0\n",
       "total_income        0\n",
       "purpose             0\n",
       "category_age        0\n",
       "dtype: int64"
      ]
     },
     "execution_count": 81,
     "metadata": {},
     "output_type": "execute_result"
    }
   ],
   "source": [
    "# Periksa apakah fungsimu bekerja\n",
    "df.isnull().sum()"
   ]
  },
  {
   "cell_type": "code",
   "execution_count": 82,
   "metadata": {},
   "outputs": [],
   "source": [
    "# Ganti nilai yang hilang\n",
    "df = group_fillna(dataframe=df, group_col='income_type', missing_col='days_employed')"
   ]
  },
  {
   "cell_type": "markdown",
   "metadata": {},
   "source": [
    "Setelah selesai dengan `total_income`, kita akan memeriksa apakah jumlah total nilai di kolom ini sesuai dengan jumlah nilai di kolom lain."
   ]
  },
  {
   "cell_type": "code",
   "execution_count": 83,
   "metadata": {},
   "outputs": [
    {
     "name": "stdout",
     "output_type": "stream",
     "text": [
      "<class 'pandas.core.frame.DataFrame'>\n",
      "RangeIndex: 21452 entries, 0 to 21451\n",
      "Data columns (total 13 columns):\n",
      " #   Column            Non-Null Count  Dtype  \n",
      "---  ------            --------------  -----  \n",
      " 0   children          21452 non-null  int64  \n",
      " 1   days_employed     21452 non-null  float64\n",
      " 2   dob_years         21452 non-null  int64  \n",
      " 3   education         21452 non-null  object \n",
      " 4   education_id      21452 non-null  int64  \n",
      " 5   family_status     21452 non-null  object \n",
      " 6   family_status_id  21452 non-null  int64  \n",
      " 7   gender            21452 non-null  object \n",
      " 8   income_type       21452 non-null  object \n",
      " 9   debt              21452 non-null  int64  \n",
      " 10  total_income      21452 non-null  float64\n",
      " 11  purpose           21452 non-null  object \n",
      " 12  category_age      21452 non-null  object \n",
      "dtypes: float64(2), int64(5), object(6)\n",
      "memory usage: 2.1+ MB\n"
     ]
    }
   ],
   "source": [
    "# Periksa entri di semua kolom - pastikan kita memperbaiki semua nilai yang hilang\n",
    "df.info()"
   ]
  },
  {
   "cell_type": "markdown",
   "metadata": {},
   "source": [
    "# 2.4 Kesimpulan \n",
    "* Kedua kolom diperbaiki agar kedua kolom yang memiliki nilai tidak wajar atau hilang tidak berdampak untuk perhitungan/analisis lebih lanjut ke tahap selanjutnya."
   ]
  },
  {
   "cell_type": "markdown",
   "metadata": {},
   "source": [
    "# Tahap 3 Analisis Data dan Temuan serta Hipotesis"
   ]
  },
  {
   "cell_type": "markdown",
   "metadata": {},
   "source": [
    "# 3.1 Pengkategorian data\n",
    "\n",
    "* Kita akan menganalisa kolom purpose lebih lanjut. Kolom purpose memiliki banyak nilai unik di dalamnya. Meskipun banyak nilai unik di dalamnya, kolom purpose sangat mudah untuk dikategorikan.\n"
   ]
  },
  {
   "cell_type": "code",
   "execution_count": 84,
   "metadata": {
    "scrolled": true
   },
   "outputs": [
    {
     "data": {
      "text/html": [
       "<div>\n",
       "<style scoped>\n",
       "    .dataframe tbody tr th:only-of-type {\n",
       "        vertical-align: middle;\n",
       "    }\n",
       "\n",
       "    .dataframe tbody tr th {\n",
       "        vertical-align: top;\n",
       "    }\n",
       "\n",
       "    .dataframe thead th {\n",
       "        text-align: right;\n",
       "    }\n",
       "</style>\n",
       "<table border=\"1\" class=\"dataframe\">\n",
       "  <thead>\n",
       "    <tr style=\"text-align: right;\">\n",
       "      <th></th>\n",
       "      <th>purpose</th>\n",
       "    </tr>\n",
       "  </thead>\n",
       "  <tbody>\n",
       "    <tr>\n",
       "      <th>0</th>\n",
       "      <td>purchase of the house</td>\n",
       "    </tr>\n",
       "    <tr>\n",
       "      <th>1</th>\n",
       "      <td>car purchase</td>\n",
       "    </tr>\n",
       "    <tr>\n",
       "      <th>2</th>\n",
       "      <td>purchase of the house</td>\n",
       "    </tr>\n",
       "    <tr>\n",
       "      <th>3</th>\n",
       "      <td>supplementary education</td>\n",
       "    </tr>\n",
       "    <tr>\n",
       "      <th>4</th>\n",
       "      <td>to have a wedding</td>\n",
       "    </tr>\n",
       "    <tr>\n",
       "      <th>...</th>\n",
       "      <td>...</td>\n",
       "    </tr>\n",
       "    <tr>\n",
       "      <th>21447</th>\n",
       "      <td>housing transactions</td>\n",
       "    </tr>\n",
       "    <tr>\n",
       "      <th>21448</th>\n",
       "      <td>purchase of a car</td>\n",
       "    </tr>\n",
       "    <tr>\n",
       "      <th>21449</th>\n",
       "      <td>property</td>\n",
       "    </tr>\n",
       "    <tr>\n",
       "      <th>21450</th>\n",
       "      <td>buying my own car</td>\n",
       "    </tr>\n",
       "    <tr>\n",
       "      <th>21451</th>\n",
       "      <td>to buy a car</td>\n",
       "    </tr>\n",
       "  </tbody>\n",
       "</table>\n",
       "<p>21452 rows × 1 columns</p>\n",
       "</div>"
      ],
      "text/plain": [
       "                       purpose\n",
       "0        purchase of the house\n",
       "1                 car purchase\n",
       "2        purchase of the house\n",
       "3      supplementary education\n",
       "4            to have a wedding\n",
       "...                        ...\n",
       "21447     housing transactions\n",
       "21448        purchase of a car\n",
       "21449                 property\n",
       "21450        buying my own car\n",
       "21451             to buy a car\n",
       "\n",
       "[21452 rows x 1 columns]"
      ]
     },
     "execution_count": 84,
     "metadata": {},
     "output_type": "execute_result"
    }
   ],
   "source": [
    "# Tampilkan nilai data yang kamu pilih untuk pengkategorian\n",
    "df[['purpose']]\n"
   ]
  },
  {
   "cell_type": "code",
   "execution_count": 85,
   "metadata": {},
   "outputs": [
    {
     "data": {
      "text/plain": [
       "array(['purchase of the house', 'car purchase', 'supplementary education',\n",
       "       'to have a wedding', 'housing transactions', 'education',\n",
       "       'having a wedding', 'purchase of the house for my family',\n",
       "       'buy real estate', 'buy commercial real estate',\n",
       "       'buy residential real estate', 'construction of own property',\n",
       "       'property', 'building a property', 'buying a second-hand car',\n",
       "       'buying my own car', 'transactions with commercial real estate',\n",
       "       'building a real estate', 'housing',\n",
       "       'transactions with my real estate', 'cars', 'to become educated',\n",
       "       'second-hand car purchase', 'getting an education', 'car',\n",
       "       'wedding ceremony', 'to get a supplementary education',\n",
       "       'purchase of my own house', 'real estate transactions',\n",
       "       'getting higher education', 'to own a car', 'purchase of a car',\n",
       "       'profile education', 'university education',\n",
       "       'buying property for renting out', 'to buy a car',\n",
       "       'housing renovation', 'going to university'], dtype=object)"
      ]
     },
     "execution_count": 85,
     "metadata": {},
     "output_type": "execute_result"
    }
   ],
   "source": [
    "# Memeriksa nilai unik\n",
    "df['purpose'].unique()"
   ]
  },
  {
   "cell_type": "markdown",
   "metadata": {},
   "source": [
    "Kelompok utama yang dapat diidentifikasi berdasarkan nilai uniknya yaitu : house,educat,wedding dan car\n"
   ]
  },
  {
   "cell_type": "code",
   "execution_count": 86,
   "metadata": {},
   "outputs": [],
   "source": [
    "# Mari kita tulis sebuah fungsi untuk mengategorikan data berdasarkan topik umum\n",
    "def category_purpose(keperluan):\n",
    "    keperluan = keperluan.lower()\n",
    "    if ('house' in keperluan) or ('property' in keperluan) or ('estate' in keperluan) or ('housing' in keperluan):\n",
    "        category = 'house'\n",
    "    elif ('educat' in keperluan) or ('university' in keperluan) or ('house' in keperluan):\n",
    "        category = 'education'\n",
    "    elif ('wedding' in keperluan) or ('a wedding' in keperluan) or ('wedding ceremony' in keperluan):\n",
    "        category = 'wedding'\n",
    "    elif ('car' in keperluan) or ('buy a car' in keperluan) or ('cars' in keperluan) or ('second-hand car' in keperluan):\n",
    "        category = 'car'\n",
    "    else:\n",
    "        category = 'other'\n",
    "    \n",
    "    return category\n"
   ]
  },
  {
   "cell_type": "code",
   "execution_count": 87,
   "metadata": {
    "scrolled": true
   },
   "outputs": [],
   "source": [
    "# Buat kolom yang memuat kategori dan hitung nilainya\n",
    "df['purpose_group'] = df['purpose'].apply(category_purpose)"
   ]
  },
  {
   "cell_type": "code",
   "execution_count": 88,
   "metadata": {},
   "outputs": [],
   "source": [
    "# Ganti value debt dari integer ke string\n",
    "df['debt'] = df['debt'].replace(0, 'Tidak Gagal').replace(1, 'Gagal Bayar')"
   ]
  },
  {
   "cell_type": "markdown",
   "metadata": {},
   "source": [
    "* Dengan pengkategorian seperti ini, kita bisa dengan mudah menghitung dari value yang bergantungan dengan income"
   ]
  },
  {
   "cell_type": "code",
   "execution_count": 89,
   "metadata": {},
   "outputs": [],
   "source": [
    "# Membuat sebuah function pengkategorian total_income data numerik di kolom yang kamu pilih untuk pengkategorian\n",
    "def categorize_income(total_income):\n",
    "    if total_income <= 15000:\n",
    "        return '<= 15k'\n",
    "    elif total_income <= 30000:\n",
    "        return '15-30k'\n",
    "    elif total_income <= 45000:\n",
    "        return '30-45k'\n",
    "    elif total_income <= 60000:\n",
    "        return '45-60k'\n",
    "    else:\n",
    "        return '> 60k'"
   ]
  },
  {
   "cell_type": "code",
   "execution_count": 90,
   "metadata": {},
   "outputs": [
    {
     "data": {
      "text/plain": [
       "count      21452\n",
       "unique         5\n",
       "top       15-30k\n",
       "freq       11791\n",
       "Name: income_group, dtype: object"
      ]
     },
     "execution_count": 90,
     "metadata": {},
     "output_type": "execute_result"
    }
   ],
   "source": [
    "# Dapatkan kesimpulan statistik untuk kolomnya\n",
    "df['income_group'] = df['total_income'].apply(categorize_income)\n",
    "df['income_group'].describe()\n"
   ]
  },
  {
   "cell_type": "code",
   "execution_count": 91,
   "metadata": {},
   "outputs": [
    {
     "data": {
      "text/html": [
       "<div>\n",
       "<style scoped>\n",
       "    .dataframe tbody tr th:only-of-type {\n",
       "        vertical-align: middle;\n",
       "    }\n",
       "\n",
       "    .dataframe tbody tr th {\n",
       "        vertical-align: top;\n",
       "    }\n",
       "\n",
       "    .dataframe thead th {\n",
       "        text-align: right;\n",
       "    }\n",
       "</style>\n",
       "<table border=\"1\" class=\"dataframe\">\n",
       "  <thead>\n",
       "    <tr style=\"text-align: right;\">\n",
       "      <th></th>\n",
       "      <th>total_income</th>\n",
       "      <th>income_group</th>\n",
       "    </tr>\n",
       "  </thead>\n",
       "  <tbody>\n",
       "    <tr>\n",
       "      <th>0</th>\n",
       "      <td>40620.102</td>\n",
       "      <td>30-45k</td>\n",
       "    </tr>\n",
       "    <tr>\n",
       "      <th>1</th>\n",
       "      <td>17932.802</td>\n",
       "      <td>15-30k</td>\n",
       "    </tr>\n",
       "    <tr>\n",
       "      <th>2</th>\n",
       "      <td>23341.752</td>\n",
       "      <td>15-30k</td>\n",
       "    </tr>\n",
       "    <tr>\n",
       "      <th>3</th>\n",
       "      <td>42820.568</td>\n",
       "      <td>30-45k</td>\n",
       "    </tr>\n",
       "    <tr>\n",
       "      <th>4</th>\n",
       "      <td>25378.572</td>\n",
       "      <td>15-30k</td>\n",
       "    </tr>\n",
       "    <tr>\n",
       "      <th>5</th>\n",
       "      <td>40922.170</td>\n",
       "      <td>30-45k</td>\n",
       "    </tr>\n",
       "    <tr>\n",
       "      <th>6</th>\n",
       "      <td>38484.156</td>\n",
       "      <td>30-45k</td>\n",
       "    </tr>\n",
       "    <tr>\n",
       "      <th>7</th>\n",
       "      <td>21731.829</td>\n",
       "      <td>15-30k</td>\n",
       "    </tr>\n",
       "    <tr>\n",
       "      <th>8</th>\n",
       "      <td>15337.093</td>\n",
       "      <td>15-30k</td>\n",
       "    </tr>\n",
       "    <tr>\n",
       "      <th>9</th>\n",
       "      <td>23108.150</td>\n",
       "      <td>15-30k</td>\n",
       "    </tr>\n",
       "  </tbody>\n",
       "</table>\n",
       "</div>"
      ],
      "text/plain": [
       "   total_income income_group\n",
       "0     40620.102       30-45k\n",
       "1     17932.802       15-30k\n",
       "2     23341.752       15-30k\n",
       "3     42820.568       30-45k\n",
       "4     25378.572       15-30k\n",
       "5     40922.170       30-45k\n",
       "6     38484.156       30-45k\n",
       "7     21731.829       15-30k\n",
       "8     15337.093       15-30k\n",
       "9     23108.150       15-30k"
      ]
     },
     "execution_count": 91,
     "metadata": {},
     "output_type": "execute_result"
    }
   ],
   "source": [
    "# Lihat semua data numerik di kolom yang kamu pilih untuk pengkategorian\n",
    "df[['total_income', 'income_group']].head(10)"
   ]
  },
  {
   "cell_type": "markdown",
   "metadata": {},
   "source": [
    "* Di sini akan ditentukan rentang apa yang akan kita gunakan untuk pengelompokan. Menggunakan rentang income ke dalam kategori grup. Masing-masing akan dihitung sesuai ambang batas yang ditentukan. Hal ini untuk mempermudah secara visual besar atau kecilnya sebuah nilai di dalam income untuk mendapatkan kesimpulan. Karena nilai income grup memiliki variasi yang sangat banyak atau unik."
   ]
  },
  {
   "cell_type": "markdown",
   "metadata": {},
   "source": [
    "# 3.2 Faktor-Faktor yang Berpengaruh Pada Gagal Bayar Pinjaman\n"
   ]
  },
  {
   "cell_type": "markdown",
   "metadata": {},
   "source": [
    "**Apakah terdapat korelasi antara memiliki anak dengan probabilitas melakukan gagal bayar pinjaman?**\n",
    "Ya ada korelasinya"
   ]
  },
  {
   "cell_type": "code",
   "execution_count": 92,
   "metadata": {},
   "outputs": [
    {
     "data": {
      "text/html": [
       "<div>\n",
       "<style scoped>\n",
       "    .dataframe tbody tr th:only-of-type {\n",
       "        vertical-align: middle;\n",
       "    }\n",
       "\n",
       "    .dataframe tbody tr th {\n",
       "        vertical-align: top;\n",
       "    }\n",
       "\n",
       "    .dataframe thead th {\n",
       "        text-align: right;\n",
       "    }\n",
       "</style>\n",
       "<table border=\"1\" class=\"dataframe\">\n",
       "  <thead>\n",
       "    <tr style=\"text-align: right;\">\n",
       "      <th>debt</th>\n",
       "      <th>children</th>\n",
       "      <th>Gagal Bayar</th>\n",
       "      <th>Tidak Gagal</th>\n",
       "      <th>All</th>\n",
       "    </tr>\n",
       "  </thead>\n",
       "  <tbody>\n",
       "    <tr>\n",
       "      <th>0</th>\n",
       "      <td>0</td>\n",
       "      <td>1063.0</td>\n",
       "      <td>13026.0</td>\n",
       "      <td>14089</td>\n",
       "    </tr>\n",
       "    <tr>\n",
       "      <th>1</th>\n",
       "      <td>1</td>\n",
       "      <td>445.0</td>\n",
       "      <td>4410.0</td>\n",
       "      <td>4855</td>\n",
       "    </tr>\n",
       "    <tr>\n",
       "      <th>2</th>\n",
       "      <td>2</td>\n",
       "      <td>202.0</td>\n",
       "      <td>1926.0</td>\n",
       "      <td>2128</td>\n",
       "    </tr>\n",
       "    <tr>\n",
       "      <th>3</th>\n",
       "      <td>3</td>\n",
       "      <td>27.0</td>\n",
       "      <td>303.0</td>\n",
       "      <td>330</td>\n",
       "    </tr>\n",
       "    <tr>\n",
       "      <th>4</th>\n",
       "      <td>4</td>\n",
       "      <td>4.0</td>\n",
       "      <td>37.0</td>\n",
       "      <td>41</td>\n",
       "    </tr>\n",
       "    <tr>\n",
       "      <th>5</th>\n",
       "      <td>5</td>\n",
       "      <td>NaN</td>\n",
       "      <td>9.0</td>\n",
       "      <td>9</td>\n",
       "    </tr>\n",
       "  </tbody>\n",
       "</table>\n",
       "</div>"
      ],
      "text/plain": [
       "debt children  Gagal Bayar  Tidak Gagal    All\n",
       "0           0       1063.0      13026.0  14089\n",
       "1           1        445.0       4410.0   4855\n",
       "2           2        202.0       1926.0   2128\n",
       "3           3         27.0        303.0    330\n",
       "4           4          4.0         37.0     41\n",
       "5           5          NaN          9.0      9"
      ]
     },
     "execution_count": 92,
     "metadata": {},
     "output_type": "execute_result"
    }
   ],
   "source": [
    "# Periksa data anak dan data gagal bayar pinjaman\n",
    "child_debt = pd.pivot_table(df, index='children', columns='debt', values='income_type', aggfunc='count', margins=True).reset_index()\n",
    "child_debt[:-1]"
   ]
  },
  {
   "cell_type": "code",
   "execution_count": 93,
   "metadata": {},
   "outputs": [
    {
     "data": {
      "text/html": [
       "<div>\n",
       "<style scoped>\n",
       "    .dataframe tbody tr th:only-of-type {\n",
       "        vertical-align: middle;\n",
       "    }\n",
       "\n",
       "    .dataframe tbody tr th {\n",
       "        vertical-align: top;\n",
       "    }\n",
       "\n",
       "    .dataframe thead th {\n",
       "        text-align: right;\n",
       "    }\n",
       "</style>\n",
       "<table border=\"1\" class=\"dataframe\">\n",
       "  <thead>\n",
       "    <tr style=\"text-align: right;\">\n",
       "      <th>debt</th>\n",
       "      <th>children</th>\n",
       "      <th>Gagal Bayar</th>\n",
       "      <th>Tidak Gagal</th>\n",
       "      <th>All</th>\n",
       "      <th>% Gagal Bayar</th>\n",
       "      <th>% Tidak Gagal</th>\n",
       "    </tr>\n",
       "  </thead>\n",
       "  <tbody>\n",
       "    <tr>\n",
       "      <th>0</th>\n",
       "      <td>0</td>\n",
       "      <td>1063.0</td>\n",
       "      <td>13026.0</td>\n",
       "      <td>14089</td>\n",
       "      <td>7.5%</td>\n",
       "      <td>92.5%</td>\n",
       "    </tr>\n",
       "    <tr>\n",
       "      <th>1</th>\n",
       "      <td>1</td>\n",
       "      <td>445.0</td>\n",
       "      <td>4410.0</td>\n",
       "      <td>4855</td>\n",
       "      <td>9.2%</td>\n",
       "      <td>90.8%</td>\n",
       "    </tr>\n",
       "    <tr>\n",
       "      <th>2</th>\n",
       "      <td>2</td>\n",
       "      <td>202.0</td>\n",
       "      <td>1926.0</td>\n",
       "      <td>2128</td>\n",
       "      <td>9.5%</td>\n",
       "      <td>90.5%</td>\n",
       "    </tr>\n",
       "    <tr>\n",
       "      <th>3</th>\n",
       "      <td>3</td>\n",
       "      <td>27.0</td>\n",
       "      <td>303.0</td>\n",
       "      <td>330</td>\n",
       "      <td>8.2%</td>\n",
       "      <td>91.8%</td>\n",
       "    </tr>\n",
       "    <tr>\n",
       "      <th>4</th>\n",
       "      <td>4</td>\n",
       "      <td>4.0</td>\n",
       "      <td>37.0</td>\n",
       "      <td>41</td>\n",
       "      <td>9.8%</td>\n",
       "      <td>90.2%</td>\n",
       "    </tr>\n",
       "    <tr>\n",
       "      <th>5</th>\n",
       "      <td>5</td>\n",
       "      <td>NaN</td>\n",
       "      <td>9.0</td>\n",
       "      <td>9</td>\n",
       "      <td>nan%</td>\n",
       "      <td>100.0%</td>\n",
       "    </tr>\n",
       "  </tbody>\n",
       "</table>\n",
       "</div>"
      ],
      "text/plain": [
       "debt children  Gagal Bayar  Tidak Gagal    All % Gagal Bayar % Tidak Gagal\n",
       "0           0       1063.0      13026.0  14089          7.5%         92.5%\n",
       "1           1        445.0       4410.0   4855          9.2%         90.8%\n",
       "2           2        202.0       1926.0   2128          9.5%         90.5%\n",
       "3           3         27.0        303.0    330          8.2%         91.8%\n",
       "4           4          4.0         37.0     41          9.8%         90.2%\n",
       "5           5          NaN          9.0      9          nan%        100.0%"
      ]
     },
     "execution_count": 93,
     "metadata": {},
     "output_type": "execute_result"
    }
   ],
   "source": [
    "# Hitung persentase gagal bayar berdasarkan jumlah anak\n",
    "child_debt['% Gagal Bayar'] = round(child_debt['Gagal Bayar'] / child_debt['All'] * 100, 1).astype(str) + '%'\n",
    "child_debt['% Tidak Gagal'] = round(child_debt['Tidak Gagal'] / child_debt['All'] * 100, 1).astype(str) + '%'\n",
    "child_debt[:-1]"
   ]
  },
  {
   "cell_type": "markdown",
   "metadata": {},
   "source": [
    "# Kesimpulan\n",
    "\n",
    "Berdasarkan data, Semakin banyak anak kemungkinan gagal bayarnya juga semakin tinggi. Meskipun selisih persentasenya tidak besar (dari value 7.5 - 9.7 %). Data anak 5 tidak bisa digunakan karena samplenya trelalu sedikit.\n"
   ]
  },
  {
   "cell_type": "markdown",
   "metadata": {},
   "source": [
    "**Apakah terdapat korelasi antara status keluarga dengan probabilitas melakukan gagal bayar pinjaman?**\n",
    "Ya terdapat korelasinya"
   ]
  },
  {
   "cell_type": "code",
   "execution_count": 94,
   "metadata": {},
   "outputs": [
    {
     "data": {
      "text/html": [
       "<div>\n",
       "<style scoped>\n",
       "    .dataframe tbody tr th:only-of-type {\n",
       "        vertical-align: middle;\n",
       "    }\n",
       "\n",
       "    .dataframe tbody tr th {\n",
       "        vertical-align: top;\n",
       "    }\n",
       "\n",
       "    .dataframe thead th {\n",
       "        text-align: right;\n",
       "    }\n",
       "</style>\n",
       "<table border=\"1\" class=\"dataframe\">\n",
       "  <thead>\n",
       "    <tr style=\"text-align: right;\">\n",
       "      <th>debt</th>\n",
       "      <th>family_status</th>\n",
       "      <th>Gagal Bayar</th>\n",
       "      <th>Tidak Gagal</th>\n",
       "      <th>All</th>\n",
       "    </tr>\n",
       "  </thead>\n",
       "  <tbody>\n",
       "    <tr>\n",
       "      <th>0</th>\n",
       "      <td>civil partnership</td>\n",
       "      <td>388</td>\n",
       "      <td>3761</td>\n",
       "      <td>4149</td>\n",
       "    </tr>\n",
       "    <tr>\n",
       "      <th>1</th>\n",
       "      <td>divorced</td>\n",
       "      <td>85</td>\n",
       "      <td>1110</td>\n",
       "      <td>1195</td>\n",
       "    </tr>\n",
       "    <tr>\n",
       "      <th>2</th>\n",
       "      <td>married</td>\n",
       "      <td>931</td>\n",
       "      <td>11408</td>\n",
       "      <td>12339</td>\n",
       "    </tr>\n",
       "    <tr>\n",
       "      <th>3</th>\n",
       "      <td>unmarried</td>\n",
       "      <td>274</td>\n",
       "      <td>2536</td>\n",
       "      <td>2810</td>\n",
       "    </tr>\n",
       "    <tr>\n",
       "      <th>4</th>\n",
       "      <td>widow / widower</td>\n",
       "      <td>63</td>\n",
       "      <td>896</td>\n",
       "      <td>959</td>\n",
       "    </tr>\n",
       "  </tbody>\n",
       "</table>\n",
       "</div>"
      ],
      "text/plain": [
       "debt      family_status  Gagal Bayar  Tidak Gagal    All\n",
       "0     civil partnership          388         3761   4149\n",
       "1              divorced           85         1110   1195\n",
       "2               married          931        11408  12339\n",
       "3             unmarried          274         2536   2810\n",
       "4       widow / widower           63          896    959"
      ]
     },
     "execution_count": 94,
     "metadata": {},
     "output_type": "execute_result"
    }
   ],
   "source": [
    "# Periksa data status keluarga dan data gagal bayar pinjaman\n",
    "family_status_debt = pd.pivot_table(df, index='family_status', columns='debt', values='income_type', aggfunc='count', margins=True).reset_index()\n",
    "family_status_debt[:-1]\n"
   ]
  },
  {
   "cell_type": "code",
   "execution_count": 95,
   "metadata": {},
   "outputs": [
    {
     "data": {
      "text/html": [
       "<div>\n",
       "<style scoped>\n",
       "    .dataframe tbody tr th:only-of-type {\n",
       "        vertical-align: middle;\n",
       "    }\n",
       "\n",
       "    .dataframe tbody tr th {\n",
       "        vertical-align: top;\n",
       "    }\n",
       "\n",
       "    .dataframe thead th {\n",
       "        text-align: right;\n",
       "    }\n",
       "</style>\n",
       "<table border=\"1\" class=\"dataframe\">\n",
       "  <thead>\n",
       "    <tr style=\"text-align: right;\">\n",
       "      <th>debt</th>\n",
       "      <th>family_status</th>\n",
       "      <th>Gagal Bayar</th>\n",
       "      <th>Tidak Gagal</th>\n",
       "      <th>All</th>\n",
       "      <th>% Gagal Bayar</th>\n",
       "      <th>% Tidak Gagal</th>\n",
       "    </tr>\n",
       "  </thead>\n",
       "  <tbody>\n",
       "    <tr>\n",
       "      <th>0</th>\n",
       "      <td>civil partnership</td>\n",
       "      <td>388</td>\n",
       "      <td>3761</td>\n",
       "      <td>4149</td>\n",
       "      <td>9.4%</td>\n",
       "      <td>90.6%</td>\n",
       "    </tr>\n",
       "    <tr>\n",
       "      <th>1</th>\n",
       "      <td>divorced</td>\n",
       "      <td>85</td>\n",
       "      <td>1110</td>\n",
       "      <td>1195</td>\n",
       "      <td>7.1%</td>\n",
       "      <td>92.9%</td>\n",
       "    </tr>\n",
       "    <tr>\n",
       "      <th>2</th>\n",
       "      <td>married</td>\n",
       "      <td>931</td>\n",
       "      <td>11408</td>\n",
       "      <td>12339</td>\n",
       "      <td>7.5%</td>\n",
       "      <td>92.5%</td>\n",
       "    </tr>\n",
       "    <tr>\n",
       "      <th>3</th>\n",
       "      <td>unmarried</td>\n",
       "      <td>274</td>\n",
       "      <td>2536</td>\n",
       "      <td>2810</td>\n",
       "      <td>9.8%</td>\n",
       "      <td>90.2%</td>\n",
       "    </tr>\n",
       "    <tr>\n",
       "      <th>4</th>\n",
       "      <td>widow / widower</td>\n",
       "      <td>63</td>\n",
       "      <td>896</td>\n",
       "      <td>959</td>\n",
       "      <td>6.6%</td>\n",
       "      <td>93.4%</td>\n",
       "    </tr>\n",
       "  </tbody>\n",
       "</table>\n",
       "</div>"
      ],
      "text/plain": [
       "debt      family_status  Gagal Bayar  Tidak Gagal    All % Gagal Bayar  \\\n",
       "0     civil partnership          388         3761   4149          9.4%   \n",
       "1              divorced           85         1110   1195          7.1%   \n",
       "2               married          931        11408  12339          7.5%   \n",
       "3             unmarried          274         2536   2810          9.8%   \n",
       "4       widow / widower           63          896    959          6.6%   \n",
       "\n",
       "debt % Tidak Gagal  \n",
       "0            90.6%  \n",
       "1            92.9%  \n",
       "2            92.5%  \n",
       "3            90.2%  \n",
       "4            93.4%  "
      ]
     },
     "execution_count": 95,
     "metadata": {},
     "output_type": "execute_result"
    }
   ],
   "source": [
    "# Hitung persentase gagal bayar berdasarkan status keluarga\n",
    "family_status_debt['% Gagal Bayar'] = round(family_status_debt['Gagal Bayar'] / family_status_debt['All'] * 100, 1).astype(str) + '%'\n",
    "family_status_debt['% Tidak Gagal'] = round(family_status_debt['Tidak Gagal'] / family_status_debt['All'] * 100, 1).astype(str) + '%'\n",
    "family_status_debt[:-1]"
   ]
  },
  {
   "cell_type": "markdown",
   "metadata": {},
   "source": [
    "**Kesimpulan**\n",
    "\n",
    "* Berdasarkan data, status keluarga (tidak menikah) cenderung persentase gagal bayar yang paling tinggi. Sedangkan yang menikah ada diposisi ketiga dalam persentase gagal bayar. Meskipun selisih persentasenya tidak besar (dari value 7.54 - 9.75 %). \n",
    "* Kita akan gabung kesimpulan untuk ke dua kolom, yaitu children_status_debt dan family_status debt. Mereka mengalami kesamaan. Jika hasil persentasenya sama, kemungkinan besar ini karena data pada kolom 'children' memiliki distribusi yang serupa dengan data pada kolom 'family_status', sehingga perhitungan persentase yang dihasilkan pun menjadi serupa."
   ]
  },
  {
   "cell_type": "markdown",
   "metadata": {},
   "source": [
    "**Apakah terdapat korelasi antara tingkat pendapatan dengan probabilitas melakukan gagal bayar pinjaman?**"
   ]
  },
  {
   "cell_type": "code",
   "execution_count": 96,
   "metadata": {},
   "outputs": [
    {
     "data": {
      "text/html": [
       "<div>\n",
       "<style scoped>\n",
       "    .dataframe tbody tr th:only-of-type {\n",
       "        vertical-align: middle;\n",
       "    }\n",
       "\n",
       "    .dataframe tbody tr th {\n",
       "        vertical-align: top;\n",
       "    }\n",
       "\n",
       "    .dataframe thead th {\n",
       "        text-align: right;\n",
       "    }\n",
       "</style>\n",
       "<table border=\"1\" class=\"dataframe\">\n",
       "  <thead>\n",
       "    <tr style=\"text-align: right;\">\n",
       "      <th>debt</th>\n",
       "      <th>income_group</th>\n",
       "      <th>Gagal Bayar</th>\n",
       "      <th>Tidak Gagal</th>\n",
       "      <th>All</th>\n",
       "    </tr>\n",
       "  </thead>\n",
       "  <tbody>\n",
       "    <tr>\n",
       "      <th>0</th>\n",
       "      <td>15-30k</td>\n",
       "      <td>1007</td>\n",
       "      <td>10784</td>\n",
       "      <td>11791</td>\n",
       "    </tr>\n",
       "    <tr>\n",
       "      <th>1</th>\n",
       "      <td>30-45k</td>\n",
       "      <td>304</td>\n",
       "      <td>3755</td>\n",
       "      <td>4059</td>\n",
       "    </tr>\n",
       "    <tr>\n",
       "      <th>2</th>\n",
       "      <td>45-60k</td>\n",
       "      <td>94</td>\n",
       "      <td>1093</td>\n",
       "      <td>1187</td>\n",
       "    </tr>\n",
       "    <tr>\n",
       "      <th>3</th>\n",
       "      <td>&lt;= 15k</td>\n",
       "      <td>298</td>\n",
       "      <td>3445</td>\n",
       "      <td>3743</td>\n",
       "    </tr>\n",
       "    <tr>\n",
       "      <th>4</th>\n",
       "      <td>&gt; 60k</td>\n",
       "      <td>38</td>\n",
       "      <td>634</td>\n",
       "      <td>672</td>\n",
       "    </tr>\n",
       "  </tbody>\n",
       "</table>\n",
       "</div>"
      ],
      "text/plain": [
       "debt income_group  Gagal Bayar  Tidak Gagal    All\n",
       "0          15-30k         1007        10784  11791\n",
       "1          30-45k          304         3755   4059\n",
       "2          45-60k           94         1093   1187\n",
       "3          <= 15k          298         3445   3743\n",
       "4           > 60k           38          634    672"
      ]
     },
     "execution_count": 96,
     "metadata": {},
     "output_type": "execute_result"
    }
   ],
   "source": [
    "# Periksa data tingkat pendapatan dan data gagal bayar pinjaman\n",
    "tot_income_debt = pd.pivot_table(df, index='income_group', columns='debt', values='days_employed', aggfunc='count', margins=True).reset_index()\n",
    "tot_income_debt[:-1]\n"
   ]
  },
  {
   "cell_type": "code",
   "execution_count": 97,
   "metadata": {},
   "outputs": [],
   "source": [
    "# buat yg sdh dikategorikan"
   ]
  },
  {
   "cell_type": "code",
   "execution_count": 98,
   "metadata": {},
   "outputs": [
    {
     "data": {
      "text/html": [
       "<div>\n",
       "<style scoped>\n",
       "    .dataframe tbody tr th:only-of-type {\n",
       "        vertical-align: middle;\n",
       "    }\n",
       "\n",
       "    .dataframe tbody tr th {\n",
       "        vertical-align: top;\n",
       "    }\n",
       "\n",
       "    .dataframe thead th {\n",
       "        text-align: right;\n",
       "    }\n",
       "</style>\n",
       "<table border=\"1\" class=\"dataframe\">\n",
       "  <thead>\n",
       "    <tr style=\"text-align: right;\">\n",
       "      <th>debt</th>\n",
       "      <th>income_group</th>\n",
       "      <th>Gagal Bayar</th>\n",
       "      <th>Tidak Gagal</th>\n",
       "      <th>All</th>\n",
       "      <th>% Gagal Bayar</th>\n",
       "      <th>% Tidak Gagal</th>\n",
       "    </tr>\n",
       "  </thead>\n",
       "  <tbody>\n",
       "    <tr>\n",
       "      <th>0</th>\n",
       "      <td>15-30k</td>\n",
       "      <td>1007</td>\n",
       "      <td>10784</td>\n",
       "      <td>11791</td>\n",
       "      <td>8.5%</td>\n",
       "      <td>91.5%</td>\n",
       "    </tr>\n",
       "    <tr>\n",
       "      <th>1</th>\n",
       "      <td>30-45k</td>\n",
       "      <td>304</td>\n",
       "      <td>3755</td>\n",
       "      <td>4059</td>\n",
       "      <td>7.5%</td>\n",
       "      <td>92.5%</td>\n",
       "    </tr>\n",
       "    <tr>\n",
       "      <th>2</th>\n",
       "      <td>45-60k</td>\n",
       "      <td>94</td>\n",
       "      <td>1093</td>\n",
       "      <td>1187</td>\n",
       "      <td>7.9%</td>\n",
       "      <td>92.1%</td>\n",
       "    </tr>\n",
       "    <tr>\n",
       "      <th>3</th>\n",
       "      <td>&lt;= 15k</td>\n",
       "      <td>298</td>\n",
       "      <td>3445</td>\n",
       "      <td>3743</td>\n",
       "      <td>8.0%</td>\n",
       "      <td>92.0%</td>\n",
       "    </tr>\n",
       "    <tr>\n",
       "      <th>4</th>\n",
       "      <td>&gt; 60k</td>\n",
       "      <td>38</td>\n",
       "      <td>634</td>\n",
       "      <td>672</td>\n",
       "      <td>5.7%</td>\n",
       "      <td>94.3%</td>\n",
       "    </tr>\n",
       "  </tbody>\n",
       "</table>\n",
       "</div>"
      ],
      "text/plain": [
       "debt income_group  Gagal Bayar  Tidak Gagal    All % Gagal Bayar % Tidak Gagal\n",
       "0          15-30k         1007        10784  11791          8.5%         91.5%\n",
       "1          30-45k          304         3755   4059          7.5%         92.5%\n",
       "2          45-60k           94         1093   1187          7.9%         92.1%\n",
       "3          <= 15k          298         3445   3743          8.0%         92.0%\n",
       "4           > 60k           38          634    672          5.7%         94.3%"
      ]
     },
     "execution_count": 98,
     "metadata": {},
     "output_type": "execute_result"
    }
   ],
   "source": [
    "# Hitung persentase gagal bayar berdasarkan tingkat pendapatan\n",
    "tot_income_debt['% Gagal Bayar'] = round(tot_income_debt['Gagal Bayar'] / tot_income_debt['All'] * 100, 1).astype(str) + '%'\n",
    "tot_income_debt['% Tidak Gagal'] = round(tot_income_debt['Tidak Gagal'] / tot_income_debt['All'] * 100, 1).astype(str) + '%'\n",
    "tot_income_debt[:-1]"
   ]
  },
  {
   "cell_type": "markdown",
   "metadata": {},
   "source": [
    "# * Temuan \n",
    "* Bisa dipastikan rata-rata gagal bayar berada di atas 5%. Hal ini sangat berpengaruh besar dalam proses bisnis ke depannya karena ini akan berdampak akan kredibilitas perusahaan."
   ]
  },
  {
   "cell_type": "markdown",
   "metadata": {},
   "source": [
    "**Kesimpulan**\n",
    "\n",
    "Berdasarkan data, \n",
    "1. Semakin banyak anak kemungkinan gagal bayarnya juga semakin tinggi. \n",
    "2. Semakin tingkat pendapatannya tinggi, terutama di usia antara 21-40, prosentase gagal bayarnya tinggi, munglin karena terlalu banyak pinjaman dimana2x.\n",
    "3. Semakin status keluarga (tidak menikah) cenderung persentase gagal bayar juga semakin tinggi.\n",
    "4. Kita bisa lihat berbagai rentang dengan perbandingan antara berhasil bayar dan gagal bayar hutang dengan menggunakan rentang kategori.\n"
   ]
  },
  {
   "cell_type": "markdown",
   "metadata": {},
   "source": [
    "# 3.3 Analisis Berdasarkan Tujuan Kredit"
   ]
  },
  {
   "cell_type": "markdown",
   "metadata": {},
   "source": [
    "**Bagaimana tujuan kredit memengaruhi persentase gagal bayar?**"
   ]
  },
  {
   "cell_type": "code",
   "execution_count": 99,
   "metadata": {},
   "outputs": [
    {
     "data": {
      "text/html": [
       "<div>\n",
       "<style scoped>\n",
       "    .dataframe tbody tr th:only-of-type {\n",
       "        vertical-align: middle;\n",
       "    }\n",
       "\n",
       "    .dataframe tbody tr th {\n",
       "        vertical-align: top;\n",
       "    }\n",
       "\n",
       "    .dataframe thead th {\n",
       "        text-align: right;\n",
       "    }\n",
       "</style>\n",
       "<table border=\"1\" class=\"dataframe\">\n",
       "  <thead>\n",
       "    <tr style=\"text-align: right;\">\n",
       "      <th>debt</th>\n",
       "      <th>purpose_group</th>\n",
       "      <th>Gagal Bayar</th>\n",
       "      <th>Tidak Gagal</th>\n",
       "      <th>All</th>\n",
       "    </tr>\n",
       "  </thead>\n",
       "  <tbody>\n",
       "    <tr>\n",
       "      <th>0</th>\n",
       "      <td>car</td>\n",
       "      <td>403</td>\n",
       "      <td>3903</td>\n",
       "      <td>4306</td>\n",
       "    </tr>\n",
       "    <tr>\n",
       "      <th>1</th>\n",
       "      <td>education</td>\n",
       "      <td>370</td>\n",
       "      <td>3643</td>\n",
       "      <td>4013</td>\n",
       "    </tr>\n",
       "    <tr>\n",
       "      <th>2</th>\n",
       "      <td>house</td>\n",
       "      <td>782</td>\n",
       "      <td>10028</td>\n",
       "      <td>10810</td>\n",
       "    </tr>\n",
       "    <tr>\n",
       "      <th>3</th>\n",
       "      <td>wedding</td>\n",
       "      <td>186</td>\n",
       "      <td>2137</td>\n",
       "      <td>2323</td>\n",
       "    </tr>\n",
       "  </tbody>\n",
       "</table>\n",
       "</div>"
      ],
      "text/plain": [
       "debt purpose_group  Gagal Bayar  Tidak Gagal    All\n",
       "0              car          403         3903   4306\n",
       "1        education          370         3643   4013\n",
       "2            house          782        10028  10810\n",
       "3          wedding          186         2137   2323"
      ]
     },
     "execution_count": 99,
     "metadata": {},
     "output_type": "execute_result"
    }
   ],
   "source": [
    "# Periksa persentase tingkat gagal bayar untuk setiap tujuan kredit dan lakukan penganalisisan\n",
    "purpose_debt = pd.pivot_table(df, index='purpose_group', columns='debt', values='income_type', aggfunc='count', margins=True).reset_index()\n",
    "purpose_debt[:-1]\n"
   ]
  },
  {
   "cell_type": "code",
   "execution_count": 100,
   "metadata": {},
   "outputs": [
    {
     "data": {
      "text/html": [
       "<div>\n",
       "<style scoped>\n",
       "    .dataframe tbody tr th:only-of-type {\n",
       "        vertical-align: middle;\n",
       "    }\n",
       "\n",
       "    .dataframe tbody tr th {\n",
       "        vertical-align: top;\n",
       "    }\n",
       "\n",
       "    .dataframe thead th {\n",
       "        text-align: right;\n",
       "    }\n",
       "</style>\n",
       "<table border=\"1\" class=\"dataframe\">\n",
       "  <thead>\n",
       "    <tr style=\"text-align: right;\">\n",
       "      <th>debt</th>\n",
       "      <th>purpose_group</th>\n",
       "      <th>Gagal Bayar</th>\n",
       "      <th>Tidak Gagal</th>\n",
       "      <th>All</th>\n",
       "      <th>% Gagal Bayar</th>\n",
       "      <th>% Tidak Gagal</th>\n",
       "    </tr>\n",
       "  </thead>\n",
       "  <tbody>\n",
       "    <tr>\n",
       "      <th>0</th>\n",
       "      <td>car</td>\n",
       "      <td>403</td>\n",
       "      <td>3903</td>\n",
       "      <td>4306</td>\n",
       "      <td>9.4%</td>\n",
       "      <td>90.6%</td>\n",
       "    </tr>\n",
       "    <tr>\n",
       "      <th>1</th>\n",
       "      <td>education</td>\n",
       "      <td>370</td>\n",
       "      <td>3643</td>\n",
       "      <td>4013</td>\n",
       "      <td>9.2%</td>\n",
       "      <td>90.8%</td>\n",
       "    </tr>\n",
       "    <tr>\n",
       "      <th>2</th>\n",
       "      <td>house</td>\n",
       "      <td>782</td>\n",
       "      <td>10028</td>\n",
       "      <td>10810</td>\n",
       "      <td>7.2%</td>\n",
       "      <td>92.8%</td>\n",
       "    </tr>\n",
       "    <tr>\n",
       "      <th>3</th>\n",
       "      <td>wedding</td>\n",
       "      <td>186</td>\n",
       "      <td>2137</td>\n",
       "      <td>2323</td>\n",
       "      <td>8.0%</td>\n",
       "      <td>92.0%</td>\n",
       "    </tr>\n",
       "  </tbody>\n",
       "</table>\n",
       "</div>"
      ],
      "text/plain": [
       "debt purpose_group  Gagal Bayar  Tidak Gagal    All % Gagal Bayar  \\\n",
       "0              car          403         3903   4306          9.4%   \n",
       "1        education          370         3643   4013          9.2%   \n",
       "2            house          782        10028  10810          7.2%   \n",
       "3          wedding          186         2137   2323          8.0%   \n",
       "\n",
       "debt % Tidak Gagal  \n",
       "0            90.6%  \n",
       "1            90.8%  \n",
       "2            92.8%  \n",
       "3            92.0%  "
      ]
     },
     "execution_count": 100,
     "metadata": {},
     "output_type": "execute_result"
    }
   ],
   "source": [
    "# Hitung persentase gagal bayar berdasarkan tujuan kredit\n",
    "purpose_debt['% Gagal Bayar'] = round(purpose_debt['Gagal Bayar'] / purpose_debt['All'] * 100, 1).astype(str) + '%'\n",
    "purpose_debt['% Tidak Gagal'] = round(purpose_debt['Tidak Gagal'] / purpose_debt['All'] * 100, 1).astype(str) + '%'\n",
    "purpose_debt[:-1]"
   ]
  },
  {
   "cell_type": "markdown",
   "metadata": {},
   "source": [
    "# 3.4 Kesimpulan\n",
    "\n",
    "Berdasarkan data, kegagalan bayar berdasarkan tujuan kredit adalah :\n",
    "1. Seperti yang kita lihat, 1 merupakan gagal bayar dan 0 merupakan pembayaran berhasil. Dari persentase yang kita dapat dalam kolom gagal bayar merupakan dampak yang paling besar. Dampak ini akan sangat memengaruhi income.\n",
    "2. tujuan kredit untuk mobil, bisa disebabkan karena mungkin terlalu besar cicilian tiap bulannya atau hal lainnya.\n",
    "3. tujuan kredit untuk education, kemungkinan karena tidak menyisihkan penghasilannya untuk pendidikan.\n",
    "4. tujuan kredit untuk wedding, ini juga kemungkinan tidak mempertimbangkan faktor pendapatan hasil dari kado/hadiah dari pernikahan.\n",
    "5. tujuan kredit untuk house, menempati prosentase yang lebih rendah dari yang lainnya, kemungkinan karena rumah bisa dijadikan investasi, sehingga harus segera mungkin bisa dibayar/dilunasi cicilannya.\n"
   ]
  },
  {
   "cell_type": "markdown",
   "metadata": {},
   "source": [
    "# Kesimpulan umum "
   ]
  },
  {
   "cell_type": "markdown",
   "metadata": {},
   "source": [
    "Kesimpulan Penutup\n",
    "Dalam proyek ini, kita melakukan analisis data kredit scoring untuk mendapatkan wawasan tentang faktor-faktor yang berkontribusi terhadap kemungkinan gagal bayar kredit. Proses analisis meliputi pemahaman awal data, penanganan nilai yang hilang, deteksi dan penanganan duplikasi, serta eksplorasi berbagai faktor yang berhubungan dengan gagal bayar.\n",
    "\n",
    "* Hasil Analisis dan Temuan\n",
    "1. Pendapatan dan Kemungkinan Gagal Bayar: Berdasarkan analisis, terlihat bahwa individu dengan pendapatan lebih rendah cenderung memiliki kemungkinan gagal bayar yang lebih tinggi. Ini menunjukkan adanya korelasi negatif antara pendapatan dan risiko gagal bayar.\n",
    "\n",
    "2. Status Pernikahan dan Kemungkinan Gagal Bayar: Status pernikahan juga memiliki pengaruh terhadap risiko gagal bayar. Individu yang bercerai atau duda memiliki risiko gagal bayar yang lebih tinggi dibandingkan dengan individu yang menikah.\n",
    "\n",
    "3. Jumlah Anak dan Kemungkinan Gagal Bayar: Jumlah anak juga memiliki pengaruh terhadap risiko gagal bayar. Individu dengan jumlah anak yang lebih tinggi memiliki risiko gagal bayar yang lebih tinggi.\n",
    "\n",
    "4. Tujuan Kredit dan Kemungkinan Gagal Bayar: Terdapat variasi dalam risiko gagal bayar berdasarkan tujuan kredit. Penggunaan kredit untuk tujuan pendidikan atau perbaikan rumah memiliki risiko gagal bayar yang lebih rendah dibandingkan dengan tujuan bisnis atau pembelian kendaraan.\n",
    "\n",
    "* Rekomendasi Bisnis berdasarkan temuan dari analisis, beberapa rekomendasi bisnis yang dapat diambil adalah:\n",
    "1. Segmentasi Pelanggan: Berdasarkan karakteristik seperti pendapatan, status pernikahan, dan jumlah anak, bank dapat melakukan segmentasi pelanggan untuk mengidentifikasi kelompok risiko yang lebih tinggi. Ini akan membantu dalam menentukan suku bunga atau persyaratan kredit yang sesuai.\n",
    "\n",
    "2. Penilaian Risiko Lebih Akurat: Dengan mempertimbangkan faktor-faktor seperti tujuan kredit, bank dapat meningkatkan akurasi penilaian risiko gagal bayar. Ini dapat membantu dalam menghindari pemberian kredit kepada individu dengan risiko tinggi.\n",
    "\n",
    "3. Pengembangan Produk Khusus: Berdasarkan analisis tentang tujuan kredit, bank dapat mengembangkan produk khusus dengan suku bunga yang lebih rendah untuk kategori tujuan tertentu yang memiliki risiko gagal bayar yang rendah.\n",
    "\n",
    "4. Kesimpulan: analisis data kredit scoring memberikan wawasan yang berharga bagi bank dalam mengelola risiko kredit dan membuat keputusan yang lebih bijaksana dalam pemberian kredit kepada pelanggan.\n"
   ]
  }
 ],
 "metadata": {
  "ExecuteTimeLog": [
   {
    "duration": 2741,
    "start_time": "2021-10-21T01:08:49.480Z"
   },
   {
    "duration": 52,
    "start_time": "2021-10-21T01:08:53.315Z"
   },
   {
    "duration": 49,
    "start_time": "2021-10-21T01:08:57.432Z"
   },
   {
    "duration": 70,
    "start_time": "2021-10-21T01:09:07.706Z"
   },
   {
    "duration": 494,
    "start_time": "2024-05-23T08:03:37.818Z"
   },
   {
    "duration": 73,
    "start_time": "2024-05-23T08:03:38.316Z"
   },
   {
    "duration": 9,
    "start_time": "2024-05-23T08:03:38.391Z"
   },
   {
    "duration": 30,
    "start_time": "2024-05-23T08:03:38.404Z"
   },
   {
    "duration": 20,
    "start_time": "2024-05-23T08:03:38.437Z"
   },
   {
    "duration": 18,
    "start_time": "2024-05-23T08:03:38.460Z"
   },
   {
    "duration": 13,
    "start_time": "2024-05-23T08:03:38.481Z"
   },
   {
    "duration": 9,
    "start_time": "2024-05-23T08:03:38.533Z"
   },
   {
    "duration": 9,
    "start_time": "2024-05-23T08:03:38.546Z"
   },
   {
    "duration": 11,
    "start_time": "2024-05-23T08:03:38.562Z"
   },
   {
    "duration": 73,
    "start_time": "2024-05-23T08:03:38.576Z"
   },
   {
    "duration": 13,
    "start_time": "2024-05-23T08:03:38.652Z"
   },
   {
    "duration": 16,
    "start_time": "2024-05-23T08:03:38.668Z"
   },
   {
    "duration": 52,
    "start_time": "2024-05-23T08:03:38.686Z"
   },
   {
    "duration": 14,
    "start_time": "2024-05-23T08:03:38.741Z"
   },
   {
    "duration": 17,
    "start_time": "2024-05-23T08:03:38.759Z"
   },
   {
    "duration": 9,
    "start_time": "2024-05-23T08:03:38.779Z"
   },
   {
    "duration": 9,
    "start_time": "2024-05-23T08:03:38.833Z"
   },
   {
    "duration": 9,
    "start_time": "2024-05-23T08:03:38.845Z"
   },
   {
    "duration": 8,
    "start_time": "2024-05-23T08:03:38.857Z"
   },
   {
    "duration": 8,
    "start_time": "2024-05-23T08:03:38.868Z"
   },
   {
    "duration": 54,
    "start_time": "2024-05-23T08:03:38.880Z"
   },
   {
    "duration": 8,
    "start_time": "2024-05-23T08:03:38.937Z"
   },
   {
    "duration": 9,
    "start_time": "2024-05-23T08:03:38.948Z"
   },
   {
    "duration": 10,
    "start_time": "2024-05-23T08:03:38.959Z"
   },
   {
    "duration": 12,
    "start_time": "2024-05-23T08:03:38.972Z"
   },
   {
    "duration": 10,
    "start_time": "2024-05-23T08:03:39.034Z"
   },
   {
    "duration": 8,
    "start_time": "2024-05-23T08:03:39.054Z"
   },
   {
    "duration": 6,
    "start_time": "2024-05-23T08:03:39.064Z"
   },
   {
    "duration": 8,
    "start_time": "2024-05-23T08:03:39.073Z"
   },
   {
    "duration": 56,
    "start_time": "2024-05-23T08:03:39.085Z"
   },
   {
    "duration": 11,
    "start_time": "2024-05-23T08:03:39.144Z"
   },
   {
    "duration": 5,
    "start_time": "2024-05-23T08:03:39.158Z"
   },
   {
    "duration": 5,
    "start_time": "2024-05-23T08:03:39.166Z"
   },
   {
    "duration": 6,
    "start_time": "2024-05-23T08:03:39.175Z"
   },
   {
    "duration": 56,
    "start_time": "2024-05-23T08:03:39.183Z"
   },
   {
    "duration": 12,
    "start_time": "2024-05-23T08:03:39.242Z"
   },
   {
    "duration": 5,
    "start_time": "2024-05-23T08:03:39.256Z"
   },
   {
    "duration": 11,
    "start_time": "2024-05-23T08:03:39.264Z"
   },
   {
    "duration": 6,
    "start_time": "2024-05-23T08:03:39.278Z"
   },
   {
    "duration": 8,
    "start_time": "2024-05-23T08:03:39.333Z"
   },
   {
    "duration": 9,
    "start_time": "2024-05-23T08:03:39.345Z"
   },
   {
    "duration": 8,
    "start_time": "2024-05-23T08:03:39.357Z"
   },
   {
    "duration": 15,
    "start_time": "2024-05-23T08:03:39.368Z"
   },
   {
    "duration": 53,
    "start_time": "2024-05-23T08:03:39.385Z"
   },
   {
    "duration": 11,
    "start_time": "2024-05-23T08:03:39.440Z"
   },
   {
    "duration": 10,
    "start_time": "2024-05-23T08:03:39.453Z"
   },
   {
    "duration": 11,
    "start_time": "2024-05-23T08:03:39.466Z"
   },
   {
    "duration": 52,
    "start_time": "2024-05-23T08:03:39.480Z"
   },
   {
    "duration": 10,
    "start_time": "2024-05-23T08:03:39.536Z"
   },
   {
    "duration": 23,
    "start_time": "2024-05-23T08:03:39.549Z"
   },
   {
    "duration": 57,
    "start_time": "2024-05-23T08:03:39.576Z"
   },
   {
    "duration": 23,
    "start_time": "2024-05-23T08:03:39.635Z"
   },
   {
    "duration": 6,
    "start_time": "2024-05-23T08:03:39.660Z"
   },
   {
    "duration": 15,
    "start_time": "2024-05-23T08:03:39.669Z"
   },
   {
    "duration": 49,
    "start_time": "2024-05-23T08:03:39.686Z"
   },
   {
    "duration": 14,
    "start_time": "2024-05-23T08:03:39.738Z"
   },
   {
    "duration": 12,
    "start_time": "2024-05-23T08:03:39.754Z"
   },
   {
    "duration": 7,
    "start_time": "2024-05-23T08:03:39.769Z"
   },
   {
    "duration": 7,
    "start_time": "2024-05-23T08:03:39.779Z"
   },
   {
    "duration": 13,
    "start_time": "2024-05-23T08:03:39.833Z"
   },
   {
    "duration": 14,
    "start_time": "2024-05-23T08:03:39.848Z"
   },
   {
    "duration": 31,
    "start_time": "2024-05-23T08:03:39.865Z"
   },
   {
    "duration": 14,
    "start_time": "2024-05-23T08:03:39.932Z"
   },
   {
    "duration": 13,
    "start_time": "2024-05-23T08:03:39.949Z"
   },
   {
    "duration": 17,
    "start_time": "2024-05-23T08:03:39.965Z"
   },
   {
    "duration": 48,
    "start_time": "2024-05-23T08:03:39.985Z"
   },
   {
    "duration": 18,
    "start_time": "2024-05-23T08:03:40.036Z"
   },
   {
    "duration": 15,
    "start_time": "2024-05-23T08:03:40.056Z"
   },
   {
    "duration": 6,
    "start_time": "2024-05-23T08:03:40.074Z"
   },
   {
    "duration": 52,
    "start_time": "2024-05-23T08:03:40.082Z"
   },
   {
    "duration": 36,
    "start_time": "2024-05-23T08:03:40.137Z"
   },
   {
    "duration": 14,
    "start_time": "2024-05-23T08:03:40.176Z"
   },
   {
    "duration": 57,
    "start_time": "2024-05-23T08:03:40.193Z"
   },
   {
    "duration": 20,
    "start_time": "2024-05-23T08:03:40.253Z"
   },
   {
    "duration": 22,
    "start_time": "2024-05-23T08:03:40.276Z"
   },
   {
    "duration": 51,
    "start_time": "2024-05-23T08:03:40.301Z"
   },
   {
    "duration": 6,
    "start_time": "2024-05-23T08:03:40.354Z"
   },
   {
    "duration": 14,
    "start_time": "2024-05-23T08:03:40.364Z"
   },
   {
    "duration": 93,
    "start_time": "2024-05-23T08:03:40.381Z"
   },
   {
    "duration": 16,
    "start_time": "2024-05-23T08:03:40.478Z"
   },
   {
    "duration": 55,
    "start_time": "2024-05-23T08:03:40.507Z"
   },
   {
    "duration": 20,
    "start_time": "2024-05-23T08:03:40.565Z"
   },
   {
    "duration": 12,
    "start_time": "2024-05-23T08:03:40.588Z"
   },
   {
    "duration": 37,
    "start_time": "2024-05-23T08:03:40.602Z"
   },
   {
    "duration": 7,
    "start_time": "2024-05-23T08:03:40.641Z"
   },
   {
    "duration": 15,
    "start_time": "2024-05-23T08:03:40.652Z"
   },
   {
    "duration": 8,
    "start_time": "2024-05-23T08:03:40.670Z"
   },
   {
    "duration": 5,
    "start_time": "2024-05-23T08:03:40.682Z"
   },
   {
    "duration": 20,
    "start_time": "2024-05-23T08:03:40.734Z"
   },
   {
    "duration": 16,
    "start_time": "2024-05-23T08:03:40.756Z"
   },
   {
    "duration": 93,
    "start_time": "2024-05-23T08:03:40.775Z"
   },
   {
    "duration": 18,
    "start_time": "2024-05-23T08:03:40.871Z"
   },
   {
    "duration": 76,
    "start_time": "2024-05-23T08:03:40.892Z"
   },
   {
    "duration": 16,
    "start_time": "2024-05-23T08:03:40.971Z"
   },
   {
    "duration": 76,
    "start_time": "2024-05-23T08:03:40.990Z"
   },
   {
    "duration": 4,
    "start_time": "2024-05-23T08:03:41.068Z"
   },
   {
    "duration": 17,
    "start_time": "2024-05-23T08:03:41.075Z"
   },
   {
    "duration": 84,
    "start_time": "2024-05-23T08:03:41.095Z"
   },
   {
    "duration": 17,
    "start_time": "2024-05-23T08:03:41.182Z"
   }
  ],
  "kernelspec": {
   "display_name": "Python 3 (ipykernel)",
   "language": "python",
   "name": "python3"
  },
  "language_info": {
   "codemirror_mode": {
    "name": "ipython",
    "version": 3
   },
   "file_extension": ".py",
   "mimetype": "text/x-python",
   "name": "python",
   "nbconvert_exporter": "python",
   "pygments_lexer": "ipython3",
   "version": "3.9.19"
  },
  "toc": {
   "base_numbering": 1,
   "nav_menu": {},
   "number_sections": true,
   "sideBar": true,
   "skip_h1_title": true,
   "title_cell": "Table of Contents",
   "title_sidebar": "Contents",
   "toc_cell": false,
   "toc_position": {},
   "toc_section_display": true,
   "toc_window_display": false
  },
  "vscode": {
   "interpreter": {
    "hash": "ef1728426330606e01c1da091626d7dbd7604032247e9790b44969d857c4f729"
   }
  }
 },
 "nbformat": 4,
 "nbformat_minor": 2
}
